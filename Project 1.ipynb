{
 "cells": [
  {
   "cell_type": "markdown",
   "id": "bd1431b4-31e9-410e-9ff0-6c8a46e446fb",
   "metadata": {},
   "source": [
    "# Phase 2: Data Loading"
   ]
  },
  {
   "cell_type": "markdown",
   "id": "5d39c7b6-6796-44bd-b6f3-56e354c8f596",
   "metadata": {},
   "source": [
    "#### The Olist Brazilian E-Commerce Dataset"
   ]
  },
  {
   "cell_type": "code",
   "execution_count": 1,
   "id": "e197dd8d-9cbd-4be2-ad66-a213f96809a6",
   "metadata": {},
   "outputs": [],
   "source": [
    "import pandas as pd"
   ]
  },
  {
   "cell_type": "markdown",
   "id": "760c7b94-8b12-499e-a6e7-f0a6d919582b",
   "metadata": {},
   "source": [
    "## Extracting Data"
   ]
  },
  {
   "cell_type": "code",
   "execution_count": 2,
   "id": "c571b9aa-2085-428a-83f8-091ac7009ea1",
   "metadata": {},
   "outputs": [],
   "source": [
    "# loading all csv files into pandas"
   ]
  },
  {
   "cell_type": "code",
   "execution_count": 3,
   "id": "e25a2d20-c4d7-440c-b874-b9e745c09942",
   "metadata": {},
   "outputs": [
    {
     "data": {
      "text/plain": [
       "99441"
      ]
     },
     "execution_count": 3,
     "metadata": {},
     "output_type": "execute_result"
    }
   ],
   "source": [
    "customers = pd.read_csv(\"olist_customers_dataset.csv\")\n",
    "len(customers) # calculating the number of rows in pandas"
   ]
  },
  {
   "cell_type": "code",
   "execution_count": 4,
   "id": "1fa3ec88-1cd4-4315-bf02-d6b65eb042fa",
   "metadata": {},
   "outputs": [
    {
     "data": {
      "text/plain": [
       "Index(['customer_id', 'customer_unique_id', 'customer_zip_code_prefix',\n",
       "       'customer_city', 'customer_state'],\n",
       "      dtype='object')"
      ]
     },
     "execution_count": 4,
     "metadata": {},
     "output_type": "execute_result"
    }
   ],
   "source": [
    "customers.columns #checking the columns in the dataset"
   ]
  },
  {
   "cell_type": "code",
   "execution_count": 5,
   "id": "9d79edd3-6245-40cf-b310-100c0945c945",
   "metadata": {},
   "outputs": [
    {
     "data": {
      "text/plain": [
       "1000163"
      ]
     },
     "execution_count": 5,
     "metadata": {},
     "output_type": "execute_result"
    }
   ],
   "source": [
    "geolocation = pd.read_csv(\"olist_geolocation_dataset.csv\")\n",
    "len(geolocation) # calculating the number of rows in pandas"
   ]
  },
  {
   "cell_type": "code",
   "execution_count": 6,
   "id": "153b1d65-d2f4-4caf-a170-2f4c60b3d18e",
   "metadata": {},
   "outputs": [
    {
     "data": {
      "text/plain": [
       "112650"
      ]
     },
     "execution_count": 6,
     "metadata": {},
     "output_type": "execute_result"
    }
   ],
   "source": [
    "order_items = pd.read_csv(\"olist_order_items_dataset.csv\")\n",
    "len(order_items) # calculating the number of rows in pandas"
   ]
  },
  {
   "cell_type": "code",
   "execution_count": 7,
   "id": "531301a8-6d46-4ed7-ad9b-fa4c1c98dd44",
   "metadata": {},
   "outputs": [
    {
     "data": {
      "text/plain": [
       "103886"
      ]
     },
     "execution_count": 7,
     "metadata": {},
     "output_type": "execute_result"
    }
   ],
   "source": [
    "order_payments = pd.read_csv(\"olist_order_payments_dataset.csv\")\n",
    "len(order_payments) # calculating the number of rows in pandas"
   ]
  },
  {
   "cell_type": "code",
   "execution_count": 8,
   "id": "37374612-462c-4c74-86b7-e46adf16c885",
   "metadata": {},
   "outputs": [
    {
     "data": {
      "text/plain": [
       "99224"
      ]
     },
     "execution_count": 8,
     "metadata": {},
     "output_type": "execute_result"
    }
   ],
   "source": [
    "order_reviews = pd.read_csv(\"olist_order_reviews_dataset.csv\")\n",
    "len(order_reviews) # calculating the number of rows in pandas"
   ]
  },
  {
   "cell_type": "code",
   "execution_count": 9,
   "id": "d928c641-ef37-48dd-b04c-963490ffee64",
   "metadata": {},
   "outputs": [
    {
     "data": {
      "text/plain": [
       "99441"
      ]
     },
     "execution_count": 9,
     "metadata": {},
     "output_type": "execute_result"
    }
   ],
   "source": [
    "orders = pd.read_csv(\"olist_orders_dataset.csv\")\n",
    "len(orders) # calculating the number of rows in pandas"
   ]
  },
  {
   "cell_type": "code",
   "execution_count": 10,
   "id": "172cbab2-292e-4399-b0b8-1a7e9da52c51",
   "metadata": {},
   "outputs": [
    {
     "data": {
      "text/plain": [
       "32951"
      ]
     },
     "execution_count": 10,
     "metadata": {},
     "output_type": "execute_result"
    }
   ],
   "source": [
    "products = pd.read_csv(\"olist_products_dataset.csv\")\n",
    "len(products) # calculating the number of rows in pandas"
   ]
  },
  {
   "cell_type": "code",
   "execution_count": 11,
   "id": "2ef8453f-2414-4ed9-9693-29ae1a8f4042",
   "metadata": {},
   "outputs": [
    {
     "data": {
      "text/plain": [
       "3095"
      ]
     },
     "execution_count": 11,
     "metadata": {},
     "output_type": "execute_result"
    }
   ],
   "source": [
    "sellers = pd.read_csv(\"olist_sellers_dataset.csv\")\n",
    "len(sellers) # calculating the number of rows in pandas"
   ]
  },
  {
   "cell_type": "code",
   "execution_count": 12,
   "id": "1d915a2f-ee0e-472f-8267-12ab2c754945",
   "metadata": {},
   "outputs": [
    {
     "data": {
      "text/plain": [
       "71"
      ]
     },
     "execution_count": 12,
     "metadata": {},
     "output_type": "execute_result"
    }
   ],
   "source": [
    "product_category = pd.read_csv(\"product_category_name_translation.csv\")\n",
    "len(product_category) # calculating the number of rows in pandas"
   ]
  },
  {
   "cell_type": "markdown",
   "id": "340c8838-8f66-4097-a228-1b8b1660638b",
   "metadata": {},
   "source": [
    "## Exploratory Data Analysis (EDA)"
   ]
  },
  {
   "cell_type": "markdown",
   "id": "efea75f2-6440-4df3-bd3a-43eccd7a00e4",
   "metadata": {},
   "source": [
    "##### EDA helps in understanding the structure and characteristics of the dataset"
   ]
  },
  {
   "cell_type": "code",
   "execution_count": 13,
   "id": "266122ab-f862-4bc6-9cb6-750c75430b8d",
   "metadata": {},
   "outputs": [
    {
     "data": {
      "text/html": [
       "<div>\n",
       "<style scoped>\n",
       "    .dataframe tbody tr th:only-of-type {\n",
       "        vertical-align: middle;\n",
       "    }\n",
       "\n",
       "    .dataframe tbody tr th {\n",
       "        vertical-align: top;\n",
       "    }\n",
       "\n",
       "    .dataframe thead th {\n",
       "        text-align: right;\n",
       "    }\n",
       "</style>\n",
       "<table border=\"1\" class=\"dataframe\">\n",
       "  <thead>\n",
       "    <tr style=\"text-align: right;\">\n",
       "      <th></th>\n",
       "      <th>seller_id</th>\n",
       "      <th>seller_zip_code_prefix</th>\n",
       "      <th>seller_city</th>\n",
       "      <th>seller_state</th>\n",
       "    </tr>\n",
       "  </thead>\n",
       "  <tbody>\n",
       "    <tr>\n",
       "      <th>0</th>\n",
       "      <td>3442f8959a84dea7ee197c632cb2df15</td>\n",
       "      <td>13023</td>\n",
       "      <td>campinas</td>\n",
       "      <td>SP</td>\n",
       "    </tr>\n",
       "    <tr>\n",
       "      <th>1</th>\n",
       "      <td>d1b65fc7debc3361ea86b5f14c68d2e2</td>\n",
       "      <td>13844</td>\n",
       "      <td>mogi guacu</td>\n",
       "      <td>SP</td>\n",
       "    </tr>\n",
       "    <tr>\n",
       "      <th>2</th>\n",
       "      <td>ce3ad9de960102d0677a81f5d0bb7b2d</td>\n",
       "      <td>20031</td>\n",
       "      <td>rio de janeiro</td>\n",
       "      <td>RJ</td>\n",
       "    </tr>\n",
       "    <tr>\n",
       "      <th>3</th>\n",
       "      <td>c0f3eea2e14555b6faeea3dd58c1b1c3</td>\n",
       "      <td>4195</td>\n",
       "      <td>sao paulo</td>\n",
       "      <td>SP</td>\n",
       "    </tr>\n",
       "    <tr>\n",
       "      <th>4</th>\n",
       "      <td>51a04a8a6bdcb23deccc82b0b80742cf</td>\n",
       "      <td>12914</td>\n",
       "      <td>braganca paulista</td>\n",
       "      <td>SP</td>\n",
       "    </tr>\n",
       "  </tbody>\n",
       "</table>\n",
       "</div>"
      ],
      "text/plain": [
       "                          seller_id  seller_zip_code_prefix  \\\n",
       "0  3442f8959a84dea7ee197c632cb2df15                   13023   \n",
       "1  d1b65fc7debc3361ea86b5f14c68d2e2                   13844   \n",
       "2  ce3ad9de960102d0677a81f5d0bb7b2d                   20031   \n",
       "3  c0f3eea2e14555b6faeea3dd58c1b1c3                    4195   \n",
       "4  51a04a8a6bdcb23deccc82b0b80742cf                   12914   \n",
       "\n",
       "         seller_city seller_state  \n",
       "0           campinas           SP  \n",
       "1         mogi guacu           SP  \n",
       "2     rio de janeiro           RJ  \n",
       "3          sao paulo           SP  \n",
       "4  braganca paulista           SP  "
      ]
     },
     "execution_count": 13,
     "metadata": {},
     "output_type": "execute_result"
    }
   ],
   "source": [
    "sellers.head() #call the first 5 rows of the dataset"
   ]
  },
  {
   "cell_type": "code",
   "execution_count": 14,
   "id": "9a19edc0-2bf9-459f-a0b5-8ff753ca532f",
   "metadata": {},
   "outputs": [
    {
     "data": {
      "text/html": [
       "<div>\n",
       "<style scoped>\n",
       "    .dataframe tbody tr th:only-of-type {\n",
       "        vertical-align: middle;\n",
       "    }\n",
       "\n",
       "    .dataframe tbody tr th {\n",
       "        vertical-align: top;\n",
       "    }\n",
       "\n",
       "    .dataframe thead th {\n",
       "        text-align: right;\n",
       "    }\n",
       "</style>\n",
       "<table border=\"1\" class=\"dataframe\">\n",
       "  <thead>\n",
       "    <tr style=\"text-align: right;\">\n",
       "      <th></th>\n",
       "      <th>geolocation_zip_code_prefix</th>\n",
       "      <th>geolocation_lat</th>\n",
       "      <th>geolocation_lng</th>\n",
       "    </tr>\n",
       "  </thead>\n",
       "  <tbody>\n",
       "    <tr>\n",
       "      <th>count</th>\n",
       "      <td>1.000163e+06</td>\n",
       "      <td>1.000163e+06</td>\n",
       "      <td>1.000163e+06</td>\n",
       "    </tr>\n",
       "    <tr>\n",
       "      <th>mean</th>\n",
       "      <td>3.657417e+04</td>\n",
       "      <td>-2.117615e+01</td>\n",
       "      <td>-4.639054e+01</td>\n",
       "    </tr>\n",
       "    <tr>\n",
       "      <th>std</th>\n",
       "      <td>3.054934e+04</td>\n",
       "      <td>5.715866e+00</td>\n",
       "      <td>4.269748e+00</td>\n",
       "    </tr>\n",
       "    <tr>\n",
       "      <th>min</th>\n",
       "      <td>1.001000e+03</td>\n",
       "      <td>-3.660537e+01</td>\n",
       "      <td>-1.014668e+02</td>\n",
       "    </tr>\n",
       "    <tr>\n",
       "      <th>25%</th>\n",
       "      <td>1.107500e+04</td>\n",
       "      <td>-2.360355e+01</td>\n",
       "      <td>-4.857317e+01</td>\n",
       "    </tr>\n",
       "    <tr>\n",
       "      <th>50%</th>\n",
       "      <td>2.653000e+04</td>\n",
       "      <td>-2.291938e+01</td>\n",
       "      <td>-4.663788e+01</td>\n",
       "    </tr>\n",
       "    <tr>\n",
       "      <th>75%</th>\n",
       "      <td>6.350400e+04</td>\n",
       "      <td>-1.997962e+01</td>\n",
       "      <td>-4.376771e+01</td>\n",
       "    </tr>\n",
       "    <tr>\n",
       "      <th>max</th>\n",
       "      <td>9.999000e+04</td>\n",
       "      <td>4.506593e+01</td>\n",
       "      <td>1.211054e+02</td>\n",
       "    </tr>\n",
       "  </tbody>\n",
       "</table>\n",
       "</div>"
      ],
      "text/plain": [
       "       geolocation_zip_code_prefix  geolocation_lat  geolocation_lng\n",
       "count                 1.000163e+06     1.000163e+06     1.000163e+06\n",
       "mean                  3.657417e+04    -2.117615e+01    -4.639054e+01\n",
       "std                   3.054934e+04     5.715866e+00     4.269748e+00\n",
       "min                   1.001000e+03    -3.660537e+01    -1.014668e+02\n",
       "25%                   1.107500e+04    -2.360355e+01    -4.857317e+01\n",
       "50%                   2.653000e+04    -2.291938e+01    -4.663788e+01\n",
       "75%                   6.350400e+04    -1.997962e+01    -4.376771e+01\n",
       "max                   9.999000e+04     4.506593e+01     1.211054e+02"
      ]
     },
     "execution_count": 14,
     "metadata": {},
     "output_type": "execute_result"
    }
   ],
   "source": [
    "geolocation.describe() #basic stats"
   ]
  },
  {
   "cell_type": "code",
   "execution_count": 15,
   "id": "a5d1a4e4-9b5b-4a5c-bdc3-2387052083e8",
   "metadata": {},
   "outputs": [
    {
     "name": "stdout",
     "output_type": "stream",
     "text": [
      "<class 'pandas.core.frame.DataFrame'>\n",
      "RangeIndex: 99441 entries, 0 to 99440\n",
      "Data columns (total 5 columns):\n",
      " #   Column                    Non-Null Count  Dtype \n",
      "---  ------                    --------------  ----- \n",
      " 0   customer_id               99441 non-null  object\n",
      " 1   customer_unique_id        99441 non-null  object\n",
      " 2   customer_zip_code_prefix  99441 non-null  int64 \n",
      " 3   customer_city             99441 non-null  object\n",
      " 4   customer_state            99441 non-null  object\n",
      "dtypes: int64(1), object(4)\n",
      "memory usage: 3.8+ MB\n"
     ]
    }
   ],
   "source": [
    "customers.info() # looking at the columns of the dataset with their datatype"
   ]
  },
  {
   "cell_type": "markdown",
   "id": "8b8008a7-9735-468f-b9bf-171888deef13",
   "metadata": {},
   "source": [
    "#### Handling Missing Values"
   ]
  },
  {
   "cell_type": "code",
   "execution_count": 16,
   "id": "e16cd55c-3d2b-4b51-a0e1-15efe307221e",
   "metadata": {},
   "outputs": [],
   "source": [
    "# checking each dataset if the values are missing"
   ]
  },
  {
   "cell_type": "code",
   "execution_count": 17,
   "id": "5249d6fc-e727-4bc9-b5c8-960bb0e34142",
   "metadata": {},
   "outputs": [
    {
     "data": {
      "text/html": [
       "<div>\n",
       "<style scoped>\n",
       "    .dataframe tbody tr th:only-of-type {\n",
       "        vertical-align: middle;\n",
       "    }\n",
       "\n",
       "    .dataframe tbody tr th {\n",
       "        vertical-align: top;\n",
       "    }\n",
       "\n",
       "    .dataframe thead th {\n",
       "        text-align: right;\n",
       "    }\n",
       "</style>\n",
       "<table border=\"1\" class=\"dataframe\">\n",
       "  <thead>\n",
       "    <tr style=\"text-align: right;\">\n",
       "      <th></th>\n",
       "      <th>customer_id</th>\n",
       "      <th>customer_unique_id</th>\n",
       "      <th>customer_zip_code_prefix</th>\n",
       "      <th>customer_city</th>\n",
       "      <th>customer_state</th>\n",
       "    </tr>\n",
       "  </thead>\n",
       "  <tbody>\n",
       "    <tr>\n",
       "      <th>0</th>\n",
       "      <td>False</td>\n",
       "      <td>False</td>\n",
       "      <td>False</td>\n",
       "      <td>False</td>\n",
       "      <td>False</td>\n",
       "    </tr>\n",
       "    <tr>\n",
       "      <th>1</th>\n",
       "      <td>False</td>\n",
       "      <td>False</td>\n",
       "      <td>False</td>\n",
       "      <td>False</td>\n",
       "      <td>False</td>\n",
       "    </tr>\n",
       "    <tr>\n",
       "      <th>2</th>\n",
       "      <td>False</td>\n",
       "      <td>False</td>\n",
       "      <td>False</td>\n",
       "      <td>False</td>\n",
       "      <td>False</td>\n",
       "    </tr>\n",
       "    <tr>\n",
       "      <th>3</th>\n",
       "      <td>False</td>\n",
       "      <td>False</td>\n",
       "      <td>False</td>\n",
       "      <td>False</td>\n",
       "      <td>False</td>\n",
       "    </tr>\n",
       "    <tr>\n",
       "      <th>4</th>\n",
       "      <td>False</td>\n",
       "      <td>False</td>\n",
       "      <td>False</td>\n",
       "      <td>False</td>\n",
       "      <td>False</td>\n",
       "    </tr>\n",
       "    <tr>\n",
       "      <th>...</th>\n",
       "      <td>...</td>\n",
       "      <td>...</td>\n",
       "      <td>...</td>\n",
       "      <td>...</td>\n",
       "      <td>...</td>\n",
       "    </tr>\n",
       "    <tr>\n",
       "      <th>99436</th>\n",
       "      <td>False</td>\n",
       "      <td>False</td>\n",
       "      <td>False</td>\n",
       "      <td>False</td>\n",
       "      <td>False</td>\n",
       "    </tr>\n",
       "    <tr>\n",
       "      <th>99437</th>\n",
       "      <td>False</td>\n",
       "      <td>False</td>\n",
       "      <td>False</td>\n",
       "      <td>False</td>\n",
       "      <td>False</td>\n",
       "    </tr>\n",
       "    <tr>\n",
       "      <th>99438</th>\n",
       "      <td>False</td>\n",
       "      <td>False</td>\n",
       "      <td>False</td>\n",
       "      <td>False</td>\n",
       "      <td>False</td>\n",
       "    </tr>\n",
       "    <tr>\n",
       "      <th>99439</th>\n",
       "      <td>False</td>\n",
       "      <td>False</td>\n",
       "      <td>False</td>\n",
       "      <td>False</td>\n",
       "      <td>False</td>\n",
       "    </tr>\n",
       "    <tr>\n",
       "      <th>99440</th>\n",
       "      <td>False</td>\n",
       "      <td>False</td>\n",
       "      <td>False</td>\n",
       "      <td>False</td>\n",
       "      <td>False</td>\n",
       "    </tr>\n",
       "  </tbody>\n",
       "</table>\n",
       "<p>99441 rows × 5 columns</p>\n",
       "</div>"
      ],
      "text/plain": [
       "       customer_id  customer_unique_id  customer_zip_code_prefix  \\\n",
       "0            False               False                     False   \n",
       "1            False               False                     False   \n",
       "2            False               False                     False   \n",
       "3            False               False                     False   \n",
       "4            False               False                     False   \n",
       "...            ...                 ...                       ...   \n",
       "99436        False               False                     False   \n",
       "99437        False               False                     False   \n",
       "99438        False               False                     False   \n",
       "99439        False               False                     False   \n",
       "99440        False               False                     False   \n",
       "\n",
       "       customer_city  customer_state  \n",
       "0              False           False  \n",
       "1              False           False  \n",
       "2              False           False  \n",
       "3              False           False  \n",
       "4              False           False  \n",
       "...              ...             ...  \n",
       "99436          False           False  \n",
       "99437          False           False  \n",
       "99438          False           False  \n",
       "99439          False           False  \n",
       "99440          False           False  \n",
       "\n",
       "[99441 rows x 5 columns]"
      ]
     },
     "execution_count": 17,
     "metadata": {},
     "output_type": "execute_result"
    }
   ],
   "source": [
    "customers.isna() # checking for missing values"
   ]
  },
  {
   "cell_type": "code",
   "execution_count": 18,
   "id": "7b93c5f8-f206-456a-bc94-f3bcc71919e8",
   "metadata": {},
   "outputs": [
    {
     "data": {
      "text/plain": [
       "customer_id                 0\n",
       "customer_unique_id          0\n",
       "customer_zip_code_prefix    0\n",
       "customer_city               0\n",
       "customer_state              0\n",
       "dtype: int64"
      ]
     },
     "execution_count": 18,
     "metadata": {},
     "output_type": "execute_result"
    }
   ],
   "source": [
    "customers.isna().sum() #checking number of missing values"
   ]
  },
  {
   "cell_type": "code",
   "execution_count": 19,
   "id": "d5896d5a-206a-4902-907b-5ed7ecbd9c62",
   "metadata": {},
   "outputs": [
    {
     "data": {
      "text/plain": [
       "geolocation_zip_code_prefix    0\n",
       "geolocation_lat                0\n",
       "geolocation_lng                0\n",
       "geolocation_city               0\n",
       "geolocation_state              0\n",
       "dtype: int64"
      ]
     },
     "execution_count": 19,
     "metadata": {},
     "output_type": "execute_result"
    }
   ],
   "source": [
    "geolocation.isna().sum() # no missing values"
   ]
  },
  {
   "cell_type": "code",
   "execution_count": 20,
   "id": "d5020a1f-4c50-4707-80e4-55dce76b7d6f",
   "metadata": {},
   "outputs": [
    {
     "data": {
      "text/plain": [
       "order_id               0\n",
       "order_item_id          0\n",
       "product_id             0\n",
       "seller_id              0\n",
       "shipping_limit_date    0\n",
       "price                  0\n",
       "freight_value          0\n",
       "dtype: int64"
      ]
     },
     "execution_count": 20,
     "metadata": {},
     "output_type": "execute_result"
    }
   ],
   "source": [
    "order_items.isna().sum() #no missing values"
   ]
  },
  {
   "cell_type": "code",
   "execution_count": 21,
   "id": "e8712582-9029-4903-845a-4784a5d3dee3",
   "metadata": {},
   "outputs": [
    {
     "data": {
      "text/plain": [
       "order_id                0\n",
       "payment_sequential      0\n",
       "payment_type            0\n",
       "payment_installments    0\n",
       "payment_value           0\n",
       "dtype: int64"
      ]
     },
     "execution_count": 21,
     "metadata": {},
     "output_type": "execute_result"
    }
   ],
   "source": [
    "order_payments.isna().sum() #no missing values"
   ]
  },
  {
   "cell_type": "code",
   "execution_count": 22,
   "id": "498fd3bd-3612-4b94-b08e-a1ff8165288e",
   "metadata": {},
   "outputs": [
    {
     "data": {
      "text/plain": [
       "review_id                      0\n",
       "order_id                       0\n",
       "review_score                   0\n",
       "review_comment_title       87656\n",
       "review_comment_message     58247\n",
       "review_creation_date           0\n",
       "review_answer_timestamp        0\n",
       "dtype: int64"
      ]
     },
     "execution_count": 22,
     "metadata": {},
     "output_type": "execute_result"
    }
   ],
   "source": [
    "order_reviews.isna().sum() # this one has missing or null values "
   ]
  },
  {
   "cell_type": "code",
   "execution_count": 23,
   "id": "8a703fc3-92fc-4f87-a7dd-1884d51cb5e8",
   "metadata": {},
   "outputs": [
    {
     "data": {
      "text/plain": [
       "order_id                            0\n",
       "customer_id                         0\n",
       "order_status                        0\n",
       "order_purchase_timestamp            0\n",
       "order_approved_at                 160\n",
       "order_delivered_carrier_date     1783\n",
       "order_delivered_customer_date    2965\n",
       "order_estimated_delivery_date       0\n",
       "dtype: int64"
      ]
     },
     "execution_count": 23,
     "metadata": {},
     "output_type": "execute_result"
    }
   ],
   "source": [
    "orders.isna().sum() # this one too has missing values"
   ]
  },
  {
   "cell_type": "code",
   "execution_count": 24,
   "id": "d4dd6891-17b5-4e34-b9f2-f2b176979f4a",
   "metadata": {},
   "outputs": [
    {
     "data": {
      "text/plain": [
       "product_id                      0\n",
       "product_category_name         610\n",
       "product_name_lenght           610\n",
       "product_description_lenght    610\n",
       "product_photos_qty            610\n",
       "product_weight_g                2\n",
       "product_length_cm               2\n",
       "product_height_cm               2\n",
       "product_width_cm                2\n",
       "dtype: int64"
      ]
     },
     "execution_count": 24,
     "metadata": {},
     "output_type": "execute_result"
    }
   ],
   "source": [
    "products.isna().sum()  # this one too has missing values"
   ]
  },
  {
   "cell_type": "code",
   "execution_count": 25,
   "id": "93e21e2b-725d-49b9-b8d0-d4f3b9fe0ce6",
   "metadata": {},
   "outputs": [
    {
     "data": {
      "text/plain": [
       "seller_id                 0\n",
       "seller_zip_code_prefix    0\n",
       "seller_city               0\n",
       "seller_state              0\n",
       "dtype: int64"
      ]
     },
     "execution_count": 25,
     "metadata": {},
     "output_type": "execute_result"
    }
   ],
   "source": [
    "sellers.isna().sum()   # no missing values"
   ]
  },
  {
   "cell_type": "code",
   "execution_count": 26,
   "id": "d35c6b86-3784-4236-8b43-42c60696f6fe",
   "metadata": {},
   "outputs": [
    {
     "data": {
      "text/plain": [
       "product_category_name            0\n",
       "product_category_name_english    0\n",
       "dtype: int64"
      ]
     },
     "execution_count": 26,
     "metadata": {},
     "output_type": "execute_result"
    }
   ],
   "source": [
    "product_category.isna().sum() # no missing values"
   ]
  },
  {
   "cell_type": "code",
   "execution_count": 27,
   "id": "83875b99-3b21-48ea-91ae-598fe436aee2",
   "metadata": {},
   "outputs": [],
   "source": [
    "#order_reviews, orders, products have missing values\n",
    "#order_reviews has a total of 99,224 rows with null values for \n",
    "            # review_comment_title       87656 (around 88%)\n",
    "            #review_comment_message     58247   (around 59%)\n",
    "#orders has a total of 99,441 rows with null values for \n",
    "            #order_approved_at                 160\n",
    "            #order_delivered_carrier_date     1783\n",
    "            #order_delivered_customer_date    2965 \n",
    "#products has a total of 32,951 rows with null values for\n",
    "            #product_category_name         610\n",
    "            #product_name_lenght           610\n",
    "            #product_description_lenght    610\n",
    "            #product_photos_qty            610"
   ]
  },
  {
   "cell_type": "code",
   "execution_count": 28,
   "id": "31f63265-3ef1-4adf-9b1d-c0898542c2a3",
   "metadata": {},
   "outputs": [],
   "source": [
    "# the columns with null values of products dataset has 1.85% of its rows as missing\n",
    "# hence can be dropped\n",
    "products.dropna(inplace=True) # dropping missing values"
   ]
  },
  {
   "cell_type": "code",
   "execution_count": 29,
   "id": "9dc39f00-bfc4-411c-a603-7b56104035a9",
   "metadata": {},
   "outputs": [
    {
     "data": {
      "text/plain": [
       "32340"
      ]
     },
     "execution_count": 29,
     "metadata": {},
     "output_type": "execute_result"
    }
   ],
   "source": [
    "len(products) #before dropping"
   ]
  },
  {
   "cell_type": "code",
   "execution_count": 30,
   "id": "1a868b6d-402b-43c1-b5f8-47eff1531902",
   "metadata": {},
   "outputs": [
    {
     "data": {
      "text/plain": [
       "32340"
      ]
     },
     "execution_count": 30,
     "metadata": {},
     "output_type": "execute_result"
    }
   ],
   "source": [
    "len(products) #after dropping"
   ]
  },
  {
   "cell_type": "code",
   "execution_count": 31,
   "id": "9dbed5cf-d30f-4c2e-9567-cc895b97cd69",
   "metadata": {},
   "outputs": [],
   "source": [
    "#dropping columns that are not needed from above\n",
    "# the columns order_approved_at of the orders dataset is not needed\n",
    "orders.drop(\"order_approved_at\", axis=1, inplace=True)"
   ]
  },
  {
   "cell_type": "code",
   "execution_count": 32,
   "id": "83c092a0-4fa7-4615-ae7c-8264d7f48a4a",
   "metadata": {},
   "outputs": [
    {
     "data": {
      "text/plain": [
       "Index(['order_id', 'customer_id', 'order_status', 'order_purchase_timestamp',\n",
       "       'order_delivered_carrier_date', 'order_delivered_customer_date',\n",
       "       'order_estimated_delivery_date'],\n",
       "      dtype='object')"
      ]
     },
     "execution_count": 32,
     "metadata": {},
     "output_type": "execute_result"
    }
   ],
   "source": [
    "orders.columns # checking columns and it does not have the dropped column"
   ]
  },
  {
   "cell_type": "markdown",
   "id": "fa734912-4571-4bad-970b-f2319546c332",
   "metadata": {},
   "source": [
    "### Removing Duplicate Records"
   ]
  },
  {
   "cell_type": "code",
   "execution_count": 33,
   "id": "a7e9c5e4-9a5d-4b51-a520-83f06910ea21",
   "metadata": {},
   "outputs": [
    {
     "data": {
      "text/plain": [
       "0        False\n",
       "1        False\n",
       "2        False\n",
       "3        False\n",
       "4        False\n",
       "         ...  \n",
       "99436    False\n",
       "99437    False\n",
       "99438    False\n",
       "99439    False\n",
       "99440    False\n",
       "Length: 99441, dtype: bool"
      ]
     },
     "execution_count": 33,
     "metadata": {},
     "output_type": "execute_result"
    }
   ],
   "source": [
    "orders.duplicated() # returns boolean series indicating whether each row in the Dataframe is a duplicate of a previous row"
   ]
  },
  {
   "cell_type": "code",
   "execution_count": 34,
   "id": "d83b3e2d-c7b6-4457-a6b2-28ebfaae911b",
   "metadata": {},
   "outputs": [
    {
     "data": {
      "text/plain": [
       "np.int64(0)"
      ]
     },
     "execution_count": 34,
     "metadata": {},
     "output_type": "execute_result"
    }
   ],
   "source": [
    "# looking at the number of duplicaed rows\n",
    "orders.duplicated().sum()"
   ]
  },
  {
   "cell_type": "code",
   "execution_count": 35,
   "id": "b8298c86-d521-4bf0-b600-8ac34fee3862",
   "metadata": {},
   "outputs": [
    {
     "data": {
      "text/plain": [
       "np.int64(0)"
      ]
     },
     "execution_count": 35,
     "metadata": {},
     "output_type": "execute_result"
    }
   ],
   "source": [
    "customers.duplicated().sum()"
   ]
  },
  {
   "cell_type": "code",
   "execution_count": 36,
   "id": "d7de5556-d64e-46b8-8984-b4dacce10ade",
   "metadata": {},
   "outputs": [
    {
     "data": {
      "text/plain": [
       "np.int64(261831)"
      ]
     },
     "execution_count": 36,
     "metadata": {},
     "output_type": "execute_result"
    }
   ],
   "source": [
    "geolocation.duplicated().sum()"
   ]
  },
  {
   "cell_type": "code",
   "execution_count": 37,
   "id": "06db4bde-5ca5-4f34-85a7-8e23a223abb2",
   "metadata": {},
   "outputs": [
    {
     "data": {
      "text/plain": [
       "np.int64(0)"
      ]
     },
     "execution_count": 37,
     "metadata": {},
     "output_type": "execute_result"
    }
   ],
   "source": [
    "order_items.duplicated().sum()"
   ]
  },
  {
   "cell_type": "code",
   "execution_count": 38,
   "id": "4d4f6e4f-abd5-4672-94ab-10cca3052fa7",
   "metadata": {},
   "outputs": [
    {
     "data": {
      "text/plain": [
       "np.int64(0)"
      ]
     },
     "execution_count": 38,
     "metadata": {},
     "output_type": "execute_result"
    }
   ],
   "source": [
    "order_payments.duplicated().sum()"
   ]
  },
  {
   "cell_type": "code",
   "execution_count": 39,
   "id": "9482807a-34e8-4c8b-add0-702522c883e5",
   "metadata": {},
   "outputs": [
    {
     "data": {
      "text/plain": [
       "np.int64(0)"
      ]
     },
     "execution_count": 39,
     "metadata": {},
     "output_type": "execute_result"
    }
   ],
   "source": [
    "order_reviews.duplicated().sum()"
   ]
  },
  {
   "cell_type": "code",
   "execution_count": 40,
   "id": "5a04a053-cf9b-4b0e-8f3a-2fb0c276fe71",
   "metadata": {},
   "outputs": [
    {
     "data": {
      "text/plain": [
       "np.int64(0)"
      ]
     },
     "execution_count": 40,
     "metadata": {},
     "output_type": "execute_result"
    }
   ],
   "source": [
    "products.duplicated().sum()"
   ]
  },
  {
   "cell_type": "code",
   "execution_count": 41,
   "id": "1b81084d-25ef-4335-8824-fc0f3389d558",
   "metadata": {},
   "outputs": [
    {
     "data": {
      "text/plain": [
       "np.int64(0)"
      ]
     },
     "execution_count": 41,
     "metadata": {},
     "output_type": "execute_result"
    }
   ],
   "source": [
    "sellers.duplicated().sum()"
   ]
  },
  {
   "cell_type": "code",
   "execution_count": 42,
   "id": "295a5b90-ce04-4264-9574-8ce532f91dd3",
   "metadata": {},
   "outputs": [
    {
     "data": {
      "text/plain": [
       "np.int64(0)"
      ]
     },
     "execution_count": 42,
     "metadata": {},
     "output_type": "execute_result"
    }
   ],
   "source": [
    "product_category.duplicated().sum()"
   ]
  },
  {
   "cell_type": "code",
   "execution_count": 43,
   "id": "27f58276-7593-45cc-bdcf-5fadea56e6d1",
   "metadata": {},
   "outputs": [],
   "source": [
    "# removing duplicates from geolocation dataset\n",
    "geolocation.drop_duplicates(inplace=True)"
   ]
  },
  {
   "cell_type": "code",
   "execution_count": 44,
   "id": "535bf6eb-ffc9-4e18-94e8-78fe53f00cd2",
   "metadata": {},
   "outputs": [
    {
     "data": {
      "text/plain": [
       "738332"
      ]
     },
     "execution_count": 44,
     "metadata": {},
     "output_type": "execute_result"
    }
   ],
   "source": [
    "# number of rows before dropping duplicates\n",
    "len(geolocation)"
   ]
  },
  {
   "cell_type": "code",
   "execution_count": 45,
   "id": "4a29ce6e-cb3e-46fd-a4e9-732de39a7a4f",
   "metadata": {},
   "outputs": [
    {
     "data": {
      "text/plain": [
       "738332"
      ]
     },
     "execution_count": 45,
     "metadata": {},
     "output_type": "execute_result"
    }
   ],
   "source": [
    "# number of rows after dropping duplicates\n",
    "len(geolocation)"
   ]
  },
  {
   "cell_type": "markdown",
   "id": "91910b84-1754-4435-b95e-5f6764ff5268",
   "metadata": {},
   "source": [
    "### Data Types and Conversion"
   ]
  },
  {
   "cell_type": "code",
   "execution_count": 46,
   "id": "c1f9507a-0079-449a-834e-c3e30a1abced",
   "metadata": {},
   "outputs": [
    {
     "data": {
      "text/plain": [
       "dtype('O')"
      ]
     },
     "execution_count": 46,
     "metadata": {},
     "output_type": "execute_result"
    }
   ],
   "source": [
    "#to check data types of each column in dataset\n",
    "customers[\"customer_id\"].dtype"
   ]
  },
  {
   "cell_type": "code",
   "execution_count": 47,
   "id": "d52d1f14-67f8-4eaf-b0bc-3adc53746d0a",
   "metadata": {},
   "outputs": [
    {
     "name": "stdout",
     "output_type": "stream",
     "text": [
      "<class 'pandas.core.frame.DataFrame'>\n",
      "RangeIndex: 71 entries, 0 to 70\n",
      "Data columns (total 2 columns):\n",
      " #   Column                         Non-Null Count  Dtype \n",
      "---  ------                         --------------  ----- \n",
      " 0   product_category_name          71 non-null     object\n",
      " 1   product_category_name_english  71 non-null     object\n",
      "dtypes: object(2)\n",
      "memory usage: 1.2+ KB\n"
     ]
    }
   ],
   "source": [
    "# to see data types of all columns in the dataset\n",
    "product_category.info()"
   ]
  },
  {
   "cell_type": "code",
   "execution_count": 48,
   "id": "3d0658ce-dce5-4397-b54c-997e2baf3288",
   "metadata": {},
   "outputs": [
    {
     "data": {
      "text/plain": [
       "order_id                         object\n",
       "customer_id                      object\n",
       "order_status                     object\n",
       "order_purchase_timestamp         object\n",
       "order_delivered_carrier_date     object\n",
       "order_delivered_customer_date    object\n",
       "order_estimated_delivery_date    object\n",
       "dtype: object"
      ]
     },
     "execution_count": 48,
     "metadata": {},
     "output_type": "execute_result"
    }
   ],
   "source": [
    "orders.dtypes # checking the data types of columns"
   ]
  },
  {
   "cell_type": "code",
   "execution_count": 49,
   "id": "3a450120-82ce-40b7-a894-a16d43666d34",
   "metadata": {},
   "outputs": [],
   "source": [
    "# \"shipping_limit_date\" column from order_items dataset is in object datatype\n",
    "# \"review_creation_date\" column from order_reviews dataset is in object datatype\n",
    "# \"review_answer_timestamp\" column from order_reviews dataset is in object datatype\n",
    "# \"order_purchase_timestamp\" column from orders dataset is in object datatype\n",
    "# \"order_delivered_carrier_date\" column from orders dataset is in object datatype\n",
    "# \"order_delivered_customer_date\" column from orders dataset is in object datatype\n",
    "# \"order_estimated_delivery_date\" column from orders dataset is in object datatype\n"
   ]
  },
  {
   "cell_type": "markdown",
   "id": "a584e2e9-0648-4cea-b440-6d6fbbad7a8f",
   "metadata": {},
   "source": [
    "##### Those date and time columns which are in object datatype need to be converted to datetime"
   ]
  },
  {
   "cell_type": "code",
   "execution_count": 50,
   "id": "7468bcb0-8b7f-46d5-a4cd-6b062d30aa9a",
   "metadata": {},
   "outputs": [],
   "source": [
    "# converting all those columns into datetime datatypes\n",
    "order_items[\"shipping_limit_date\"] = pd.to_datetime(order_items[\"shipping_limit_date\"])"
   ]
  },
  {
   "cell_type": "code",
   "execution_count": 51,
   "id": "aac53bc5-fef9-454a-afc7-6402253e42e5",
   "metadata": {},
   "outputs": [],
   "source": [
    "order_reviews[\"review_creation_date\"] = pd.to_datetime(order_reviews[\"review_creation_date\"])"
   ]
  },
  {
   "cell_type": "code",
   "execution_count": 52,
   "id": "ca15284e-dcda-41f5-a314-ee307fcffd40",
   "metadata": {},
   "outputs": [],
   "source": [
    "order_reviews[\"review_answer_timestamp\"] = pd.to_datetime(order_reviews[\"review_answer_timestamp\"])"
   ]
  },
  {
   "cell_type": "code",
   "execution_count": 53,
   "id": "f29f761f-2042-4fdb-94bb-275a6c412beb",
   "metadata": {},
   "outputs": [],
   "source": [
    "orders[\"order_purchase_timestamp\"] = pd.to_datetime(orders[\"order_purchase_timestamp\"])"
   ]
  },
  {
   "cell_type": "code",
   "execution_count": 54,
   "id": "4cf3d9ed-b725-407f-b4a3-11e6d1a25a9a",
   "metadata": {},
   "outputs": [],
   "source": [
    "orders[\"order_delivered_carrier_date\"] = pd.to_datetime(orders[\"order_delivered_carrier_date\"])"
   ]
  },
  {
   "cell_type": "code",
   "execution_count": 55,
   "id": "5b1a3bf3-87f6-4c27-94f6-bd09995ed571",
   "metadata": {},
   "outputs": [],
   "source": [
    "orders[\"order_delivered_customer_date\"] = pd.to_datetime(orders[\"order_delivered_customer_date\"])"
   ]
  },
  {
   "cell_type": "code",
   "execution_count": 56,
   "id": "d99d03de-b004-4889-a881-696a788be8f1",
   "metadata": {},
   "outputs": [],
   "source": [
    "orders[\"order_estimated_delivery_date\"] = pd.to_datetime(orders[\"order_estimated_delivery_date\"])"
   ]
  },
  {
   "cell_type": "code",
   "execution_count": 57,
   "id": "74ba7b0a-28b8-4cda-81bc-3d56b9597052",
   "metadata": {},
   "outputs": [
    {
     "data": {
      "text/plain": [
       "order_id                       object\n",
       "order_item_id                   int64\n",
       "product_id                     object\n",
       "seller_id                      object\n",
       "shipping_limit_date    datetime64[ns]\n",
       "price                         float64\n",
       "freight_value                 float64\n",
       "dtype: object"
      ]
     },
     "execution_count": 57,
     "metadata": {},
     "output_type": "execute_result"
    }
   ],
   "source": [
    "# checking all the converted datatypes of the columns\n",
    "order_items.dtypes"
   ]
  },
  {
   "cell_type": "code",
   "execution_count": 58,
   "id": "661d608b-7cc1-4d9e-a54b-57bf0ac6406a",
   "metadata": {},
   "outputs": [
    {
     "data": {
      "text/plain": [
       "review_id                          object\n",
       "order_id                           object\n",
       "review_score                        int64\n",
       "review_comment_title               object\n",
       "review_comment_message             object\n",
       "review_creation_date       datetime64[ns]\n",
       "review_answer_timestamp    datetime64[ns]\n",
       "dtype: object"
      ]
     },
     "execution_count": 58,
     "metadata": {},
     "output_type": "execute_result"
    }
   ],
   "source": [
    "order_reviews.dtypes"
   ]
  },
  {
   "cell_type": "code",
   "execution_count": 59,
   "id": "60b6e687-f13f-45ec-b074-4b7ababdb4eb",
   "metadata": {},
   "outputs": [
    {
     "data": {
      "text/plain": [
       "order_id                                 object\n",
       "customer_id                              object\n",
       "order_status                             object\n",
       "order_purchase_timestamp         datetime64[ns]\n",
       "order_delivered_carrier_date     datetime64[ns]\n",
       "order_delivered_customer_date    datetime64[ns]\n",
       "order_estimated_delivery_date    datetime64[ns]\n",
       "dtype: object"
      ]
     },
     "execution_count": 59,
     "metadata": {},
     "output_type": "execute_result"
    }
   ],
   "source": [
    "orders.dtypes"
   ]
  },
  {
   "cell_type": "code",
   "execution_count": null,
   "id": "8b12bb6c-1973-4a2c-bdaf-9a7fce48310d",
   "metadata": {},
   "outputs": [],
   "source": []
  },
  {
   "cell_type": "markdown",
   "id": "44a6f4ad-fd4f-433d-9b70-0965e3b1a2a4",
   "metadata": {},
   "source": [
    "### Standarizing and Formatting Data"
   ]
  },
  {
   "cell_type": "code",
   "execution_count": 60,
   "id": "b9530961-e4fb-4207-af98-f94376a7dd80",
   "metadata": {},
   "outputs": [],
   "source": [
    "# capitalizing each element of the column \"customer_city\" in the customers dataset\n",
    "customers[\"customer_city\"] = customers[\"customer_city\"].str.upper() # turning each element into uppercase"
   ]
  },
  {
   "cell_type": "code",
   "execution_count": 61,
   "id": "8f5e4921-abe3-46e2-b411-0af33a6712a6",
   "metadata": {},
   "outputs": [],
   "source": [
    "# removing spaces from the beginning and the end of a string\n",
    "customers[\"customer_city\"] = customers[\"customer_city\"].str.strip()"
   ]
  },
  {
   "cell_type": "code",
   "execution_count": 62,
   "id": "12297b51-4af3-459a-bd03-b4910f2230de",
   "metadata": {},
   "outputs": [],
   "source": [
    "geolocation[\"geolocation_city\"] = geolocation[\"geolocation_city\"].str.upper() # turning all elements into uppercase"
   ]
  },
  {
   "cell_type": "code",
   "execution_count": 63,
   "id": "706c1aec-f268-4503-a566-e81de0211d98",
   "metadata": {},
   "outputs": [],
   "source": [
    "geolocation[\"geolocation_city\"] = geolocation[\"geolocation_city\"].str.strip()"
   ]
  },
  {
   "cell_type": "code",
   "execution_count": 64,
   "id": "cf1363dd-aa7f-46a9-8b58-2b768cfb1c6d",
   "metadata": {},
   "outputs": [
    {
     "data": {
      "text/html": [
       "<div>\n",
       "<style scoped>\n",
       "    .dataframe tbody tr th:only-of-type {\n",
       "        vertical-align: middle;\n",
       "    }\n",
       "\n",
       "    .dataframe tbody tr th {\n",
       "        vertical-align: top;\n",
       "    }\n",
       "\n",
       "    .dataframe thead th {\n",
       "        text-align: right;\n",
       "    }\n",
       "</style>\n",
       "<table border=\"1\" class=\"dataframe\">\n",
       "  <thead>\n",
       "    <tr style=\"text-align: right;\">\n",
       "      <th></th>\n",
       "      <th>geolocation_zip_code_prefix</th>\n",
       "      <th>geolocation_lat</th>\n",
       "      <th>geolocation_lng</th>\n",
       "      <th>geolocation_city</th>\n",
       "      <th>geolocation_state</th>\n",
       "    </tr>\n",
       "  </thead>\n",
       "  <tbody>\n",
       "    <tr>\n",
       "      <th>0</th>\n",
       "      <td>1037</td>\n",
       "      <td>-23.545621</td>\n",
       "      <td>-46.639292</td>\n",
       "      <td>SAO PAULO</td>\n",
       "      <td>SP</td>\n",
       "    </tr>\n",
       "    <tr>\n",
       "      <th>1</th>\n",
       "      <td>1046</td>\n",
       "      <td>-23.546081</td>\n",
       "      <td>-46.644820</td>\n",
       "      <td>SAO PAULO</td>\n",
       "      <td>SP</td>\n",
       "    </tr>\n",
       "    <tr>\n",
       "      <th>2</th>\n",
       "      <td>1046</td>\n",
       "      <td>-23.546129</td>\n",
       "      <td>-46.642951</td>\n",
       "      <td>SAO PAULO</td>\n",
       "      <td>SP</td>\n",
       "    </tr>\n",
       "    <tr>\n",
       "      <th>3</th>\n",
       "      <td>1041</td>\n",
       "      <td>-23.544392</td>\n",
       "      <td>-46.639499</td>\n",
       "      <td>SAO PAULO</td>\n",
       "      <td>SP</td>\n",
       "    </tr>\n",
       "    <tr>\n",
       "      <th>4</th>\n",
       "      <td>1035</td>\n",
       "      <td>-23.541578</td>\n",
       "      <td>-46.641607</td>\n",
       "      <td>SAO PAULO</td>\n",
       "      <td>SP</td>\n",
       "    </tr>\n",
       "    <tr>\n",
       "      <th>...</th>\n",
       "      <td>...</td>\n",
       "      <td>...</td>\n",
       "      <td>...</td>\n",
       "      <td>...</td>\n",
       "      <td>...</td>\n",
       "    </tr>\n",
       "    <tr>\n",
       "      <th>1000155</th>\n",
       "      <td>99965</td>\n",
       "      <td>-28.180655</td>\n",
       "      <td>-52.034367</td>\n",
       "      <td>AGUA SANTA</td>\n",
       "      <td>RS</td>\n",
       "    </tr>\n",
       "    <tr>\n",
       "      <th>1000156</th>\n",
       "      <td>99950</td>\n",
       "      <td>-28.072188</td>\n",
       "      <td>-52.011272</td>\n",
       "      <td>TAPEJARA</td>\n",
       "      <td>RS</td>\n",
       "    </tr>\n",
       "    <tr>\n",
       "      <th>1000157</th>\n",
       "      <td>99950</td>\n",
       "      <td>-28.068864</td>\n",
       "      <td>-52.012964</td>\n",
       "      <td>TAPEJARA</td>\n",
       "      <td>RS</td>\n",
       "    </tr>\n",
       "    <tr>\n",
       "      <th>1000158</th>\n",
       "      <td>99950</td>\n",
       "      <td>-28.068639</td>\n",
       "      <td>-52.010705</td>\n",
       "      <td>TAPEJARA</td>\n",
       "      <td>RS</td>\n",
       "    </tr>\n",
       "    <tr>\n",
       "      <th>1000161</th>\n",
       "      <td>99980</td>\n",
       "      <td>-28.388932</td>\n",
       "      <td>-51.846871</td>\n",
       "      <td>DAVID CANABARRO</td>\n",
       "      <td>RS</td>\n",
       "    </tr>\n",
       "  </tbody>\n",
       "</table>\n",
       "<p>738332 rows × 5 columns</p>\n",
       "</div>"
      ],
      "text/plain": [
       "         geolocation_zip_code_prefix  geolocation_lat  geolocation_lng  \\\n",
       "0                               1037       -23.545621       -46.639292   \n",
       "1                               1046       -23.546081       -46.644820   \n",
       "2                               1046       -23.546129       -46.642951   \n",
       "3                               1041       -23.544392       -46.639499   \n",
       "4                               1035       -23.541578       -46.641607   \n",
       "...                              ...              ...              ...   \n",
       "1000155                        99965       -28.180655       -52.034367   \n",
       "1000156                        99950       -28.072188       -52.011272   \n",
       "1000157                        99950       -28.068864       -52.012964   \n",
       "1000158                        99950       -28.068639       -52.010705   \n",
       "1000161                        99980       -28.388932       -51.846871   \n",
       "\n",
       "        geolocation_city geolocation_state  \n",
       "0              SAO PAULO                SP  \n",
       "1              SAO PAULO                SP  \n",
       "2              SAO PAULO                SP  \n",
       "3              SAO PAULO                SP  \n",
       "4              SAO PAULO                SP  \n",
       "...                  ...               ...  \n",
       "1000155       AGUA SANTA                RS  \n",
       "1000156         TAPEJARA                RS  \n",
       "1000157         TAPEJARA                RS  \n",
       "1000158         TAPEJARA                RS  \n",
       "1000161  DAVID CANABARRO                RS  \n",
       "\n",
       "[738332 rows x 5 columns]"
      ]
     },
     "execution_count": 64,
     "metadata": {},
     "output_type": "execute_result"
    }
   ],
   "source": [
    "geolocation"
   ]
  },
  {
   "cell_type": "code",
   "execution_count": 65,
   "id": "3abb3d96-2dfe-4c04-bfb8-9cb5e6a6eeaa",
   "metadata": {},
   "outputs": [],
   "source": [
    "orders[\"order_status\"] = orders[\"order_status\"].str.upper().str.strip() # converting to uppercase and removing beginning and end spaces, both"
   ]
  },
  {
   "cell_type": "code",
   "execution_count": 66,
   "id": "02bf3067-37df-4c40-b244-c68fc16062f4",
   "metadata": {},
   "outputs": [
    {
     "data": {
      "text/html": [
       "<div>\n",
       "<style scoped>\n",
       "    .dataframe tbody tr th:only-of-type {\n",
       "        vertical-align: middle;\n",
       "    }\n",
       "\n",
       "    .dataframe tbody tr th {\n",
       "        vertical-align: top;\n",
       "    }\n",
       "\n",
       "    .dataframe thead th {\n",
       "        text-align: right;\n",
       "    }\n",
       "</style>\n",
       "<table border=\"1\" class=\"dataframe\">\n",
       "  <thead>\n",
       "    <tr style=\"text-align: right;\">\n",
       "      <th></th>\n",
       "      <th>order_id</th>\n",
       "      <th>customer_id</th>\n",
       "      <th>order_status</th>\n",
       "      <th>order_purchase_timestamp</th>\n",
       "      <th>order_delivered_carrier_date</th>\n",
       "      <th>order_delivered_customer_date</th>\n",
       "      <th>order_estimated_delivery_date</th>\n",
       "    </tr>\n",
       "  </thead>\n",
       "  <tbody>\n",
       "    <tr>\n",
       "      <th>0</th>\n",
       "      <td>e481f51cbdc54678b7cc49136f2d6af7</td>\n",
       "      <td>9ef432eb6251297304e76186b10a928d</td>\n",
       "      <td>DELIVERED</td>\n",
       "      <td>2017-10-02 10:56:33</td>\n",
       "      <td>2017-10-04 19:55:00</td>\n",
       "      <td>2017-10-10 21:25:13</td>\n",
       "      <td>2017-10-18</td>\n",
       "    </tr>\n",
       "    <tr>\n",
       "      <th>1</th>\n",
       "      <td>53cdb2fc8bc7dce0b6741e2150273451</td>\n",
       "      <td>b0830fb4747a6c6d20dea0b8c802d7ef</td>\n",
       "      <td>DELIVERED</td>\n",
       "      <td>2018-07-24 20:41:37</td>\n",
       "      <td>2018-07-26 14:31:00</td>\n",
       "      <td>2018-08-07 15:27:45</td>\n",
       "      <td>2018-08-13</td>\n",
       "    </tr>\n",
       "    <tr>\n",
       "      <th>2</th>\n",
       "      <td>47770eb9100c2d0c44946d9cf07ec65d</td>\n",
       "      <td>41ce2a54c0b03bf3443c3d931a367089</td>\n",
       "      <td>DELIVERED</td>\n",
       "      <td>2018-08-08 08:38:49</td>\n",
       "      <td>2018-08-08 13:50:00</td>\n",
       "      <td>2018-08-17 18:06:29</td>\n",
       "      <td>2018-09-04</td>\n",
       "    </tr>\n",
       "    <tr>\n",
       "      <th>3</th>\n",
       "      <td>949d5b44dbf5de918fe9c16f97b45f8a</td>\n",
       "      <td>f88197465ea7920adcdbec7375364d82</td>\n",
       "      <td>DELIVERED</td>\n",
       "      <td>2017-11-18 19:28:06</td>\n",
       "      <td>2017-11-22 13:39:59</td>\n",
       "      <td>2017-12-02 00:28:42</td>\n",
       "      <td>2017-12-15</td>\n",
       "    </tr>\n",
       "    <tr>\n",
       "      <th>4</th>\n",
       "      <td>ad21c59c0840e6cb83a9ceb5573f8159</td>\n",
       "      <td>8ab97904e6daea8866dbdbc4fb7aad2c</td>\n",
       "      <td>DELIVERED</td>\n",
       "      <td>2018-02-13 21:18:39</td>\n",
       "      <td>2018-02-14 19:46:34</td>\n",
       "      <td>2018-02-16 18:17:02</td>\n",
       "      <td>2018-02-26</td>\n",
       "    </tr>\n",
       "    <tr>\n",
       "      <th>...</th>\n",
       "      <td>...</td>\n",
       "      <td>...</td>\n",
       "      <td>...</td>\n",
       "      <td>...</td>\n",
       "      <td>...</td>\n",
       "      <td>...</td>\n",
       "      <td>...</td>\n",
       "    </tr>\n",
       "    <tr>\n",
       "      <th>99436</th>\n",
       "      <td>9c5dedf39a927c1b2549525ed64a053c</td>\n",
       "      <td>39bd1228ee8140590ac3aca26f2dfe00</td>\n",
       "      <td>DELIVERED</td>\n",
       "      <td>2017-03-09 09:54:05</td>\n",
       "      <td>2017-03-10 11:18:03</td>\n",
       "      <td>2017-03-17 15:08:01</td>\n",
       "      <td>2017-03-28</td>\n",
       "    </tr>\n",
       "    <tr>\n",
       "      <th>99437</th>\n",
       "      <td>63943bddc261676b46f01ca7ac2f7bd8</td>\n",
       "      <td>1fca14ff2861355f6e5f14306ff977a7</td>\n",
       "      <td>DELIVERED</td>\n",
       "      <td>2018-02-06 12:58:58</td>\n",
       "      <td>2018-02-07 23:22:42</td>\n",
       "      <td>2018-02-28 17:37:56</td>\n",
       "      <td>2018-03-02</td>\n",
       "    </tr>\n",
       "    <tr>\n",
       "      <th>99438</th>\n",
       "      <td>83c1379a015df1e13d02aae0204711ab</td>\n",
       "      <td>1aa71eb042121263aafbe80c1b562c9c</td>\n",
       "      <td>DELIVERED</td>\n",
       "      <td>2017-08-27 14:46:43</td>\n",
       "      <td>2017-08-28 20:52:26</td>\n",
       "      <td>2017-09-21 11:24:17</td>\n",
       "      <td>2017-09-27</td>\n",
       "    </tr>\n",
       "    <tr>\n",
       "      <th>99439</th>\n",
       "      <td>11c177c8e97725db2631073c19f07b62</td>\n",
       "      <td>b331b74b18dc79bcdf6532d51e1637c1</td>\n",
       "      <td>DELIVERED</td>\n",
       "      <td>2018-01-08 21:28:27</td>\n",
       "      <td>2018-01-12 15:35:03</td>\n",
       "      <td>2018-01-25 23:32:54</td>\n",
       "      <td>2018-02-15</td>\n",
       "    </tr>\n",
       "    <tr>\n",
       "      <th>99440</th>\n",
       "      <td>66dea50a8b16d9b4dee7af250b4be1a5</td>\n",
       "      <td>edb027a75a1449115f6b43211ae02a24</td>\n",
       "      <td>DELIVERED</td>\n",
       "      <td>2018-03-08 20:57:30</td>\n",
       "      <td>2018-03-09 22:11:59</td>\n",
       "      <td>2018-03-16 13:08:30</td>\n",
       "      <td>2018-04-03</td>\n",
       "    </tr>\n",
       "  </tbody>\n",
       "</table>\n",
       "<p>99441 rows × 7 columns</p>\n",
       "</div>"
      ],
      "text/plain": [
       "                               order_id                       customer_id  \\\n",
       "0      e481f51cbdc54678b7cc49136f2d6af7  9ef432eb6251297304e76186b10a928d   \n",
       "1      53cdb2fc8bc7dce0b6741e2150273451  b0830fb4747a6c6d20dea0b8c802d7ef   \n",
       "2      47770eb9100c2d0c44946d9cf07ec65d  41ce2a54c0b03bf3443c3d931a367089   \n",
       "3      949d5b44dbf5de918fe9c16f97b45f8a  f88197465ea7920adcdbec7375364d82   \n",
       "4      ad21c59c0840e6cb83a9ceb5573f8159  8ab97904e6daea8866dbdbc4fb7aad2c   \n",
       "...                                 ...                               ...   \n",
       "99436  9c5dedf39a927c1b2549525ed64a053c  39bd1228ee8140590ac3aca26f2dfe00   \n",
       "99437  63943bddc261676b46f01ca7ac2f7bd8  1fca14ff2861355f6e5f14306ff977a7   \n",
       "99438  83c1379a015df1e13d02aae0204711ab  1aa71eb042121263aafbe80c1b562c9c   \n",
       "99439  11c177c8e97725db2631073c19f07b62  b331b74b18dc79bcdf6532d51e1637c1   \n",
       "99440  66dea50a8b16d9b4dee7af250b4be1a5  edb027a75a1449115f6b43211ae02a24   \n",
       "\n",
       "      order_status order_purchase_timestamp order_delivered_carrier_date  \\\n",
       "0        DELIVERED      2017-10-02 10:56:33          2017-10-04 19:55:00   \n",
       "1        DELIVERED      2018-07-24 20:41:37          2018-07-26 14:31:00   \n",
       "2        DELIVERED      2018-08-08 08:38:49          2018-08-08 13:50:00   \n",
       "3        DELIVERED      2017-11-18 19:28:06          2017-11-22 13:39:59   \n",
       "4        DELIVERED      2018-02-13 21:18:39          2018-02-14 19:46:34   \n",
       "...            ...                      ...                          ...   \n",
       "99436    DELIVERED      2017-03-09 09:54:05          2017-03-10 11:18:03   \n",
       "99437    DELIVERED      2018-02-06 12:58:58          2018-02-07 23:22:42   \n",
       "99438    DELIVERED      2017-08-27 14:46:43          2017-08-28 20:52:26   \n",
       "99439    DELIVERED      2018-01-08 21:28:27          2018-01-12 15:35:03   \n",
       "99440    DELIVERED      2018-03-08 20:57:30          2018-03-09 22:11:59   \n",
       "\n",
       "      order_delivered_customer_date order_estimated_delivery_date  \n",
       "0               2017-10-10 21:25:13                    2017-10-18  \n",
       "1               2018-08-07 15:27:45                    2018-08-13  \n",
       "2               2018-08-17 18:06:29                    2018-09-04  \n",
       "3               2017-12-02 00:28:42                    2017-12-15  \n",
       "4               2018-02-16 18:17:02                    2018-02-26  \n",
       "...                             ...                           ...  \n",
       "99436           2017-03-17 15:08:01                    2017-03-28  \n",
       "99437           2018-02-28 17:37:56                    2018-03-02  \n",
       "99438           2017-09-21 11:24:17                    2017-09-27  \n",
       "99439           2018-01-25 23:32:54                    2018-02-15  \n",
       "99440           2018-03-16 13:08:30                    2018-04-03  \n",
       "\n",
       "[99441 rows x 7 columns]"
      ]
     },
     "execution_count": 66,
     "metadata": {},
     "output_type": "execute_result"
    }
   ],
   "source": [
    "orders"
   ]
  },
  {
   "cell_type": "code",
   "execution_count": 67,
   "id": "491d3809-69c1-4158-971c-c13f9b7626bb",
   "metadata": {},
   "outputs": [],
   "source": [
    "sellers[\"seller_city\"] = sellers[\"seller_city\"].str.upper().str.strip()"
   ]
  },
  {
   "cell_type": "code",
   "execution_count": 68,
   "id": "d093c18a-e7a7-41f4-a011-853b9447b24a",
   "metadata": {},
   "outputs": [
    {
     "data": {
      "text/html": [
       "<div>\n",
       "<style scoped>\n",
       "    .dataframe tbody tr th:only-of-type {\n",
       "        vertical-align: middle;\n",
       "    }\n",
       "\n",
       "    .dataframe tbody tr th {\n",
       "        vertical-align: top;\n",
       "    }\n",
       "\n",
       "    .dataframe thead th {\n",
       "        text-align: right;\n",
       "    }\n",
       "</style>\n",
       "<table border=\"1\" class=\"dataframe\">\n",
       "  <thead>\n",
       "    <tr style=\"text-align: right;\">\n",
       "      <th></th>\n",
       "      <th>seller_id</th>\n",
       "      <th>seller_zip_code_prefix</th>\n",
       "      <th>seller_city</th>\n",
       "      <th>seller_state</th>\n",
       "    </tr>\n",
       "  </thead>\n",
       "  <tbody>\n",
       "    <tr>\n",
       "      <th>0</th>\n",
       "      <td>3442f8959a84dea7ee197c632cb2df15</td>\n",
       "      <td>13023</td>\n",
       "      <td>CAMPINAS</td>\n",
       "      <td>SP</td>\n",
       "    </tr>\n",
       "    <tr>\n",
       "      <th>1</th>\n",
       "      <td>d1b65fc7debc3361ea86b5f14c68d2e2</td>\n",
       "      <td>13844</td>\n",
       "      <td>MOGI GUACU</td>\n",
       "      <td>SP</td>\n",
       "    </tr>\n",
       "    <tr>\n",
       "      <th>2</th>\n",
       "      <td>ce3ad9de960102d0677a81f5d0bb7b2d</td>\n",
       "      <td>20031</td>\n",
       "      <td>RIO DE JANEIRO</td>\n",
       "      <td>RJ</td>\n",
       "    </tr>\n",
       "    <tr>\n",
       "      <th>3</th>\n",
       "      <td>c0f3eea2e14555b6faeea3dd58c1b1c3</td>\n",
       "      <td>4195</td>\n",
       "      <td>SAO PAULO</td>\n",
       "      <td>SP</td>\n",
       "    </tr>\n",
       "    <tr>\n",
       "      <th>4</th>\n",
       "      <td>51a04a8a6bdcb23deccc82b0b80742cf</td>\n",
       "      <td>12914</td>\n",
       "      <td>BRAGANCA PAULISTA</td>\n",
       "      <td>SP</td>\n",
       "    </tr>\n",
       "    <tr>\n",
       "      <th>...</th>\n",
       "      <td>...</td>\n",
       "      <td>...</td>\n",
       "      <td>...</td>\n",
       "      <td>...</td>\n",
       "    </tr>\n",
       "    <tr>\n",
       "      <th>3090</th>\n",
       "      <td>98dddbc4601dd4443ca174359b237166</td>\n",
       "      <td>87111</td>\n",
       "      <td>SARANDI</td>\n",
       "      <td>PR</td>\n",
       "    </tr>\n",
       "    <tr>\n",
       "      <th>3091</th>\n",
       "      <td>f8201cab383e484733266d1906e2fdfa</td>\n",
       "      <td>88137</td>\n",
       "      <td>PALHOCA</td>\n",
       "      <td>SC</td>\n",
       "    </tr>\n",
       "    <tr>\n",
       "      <th>3092</th>\n",
       "      <td>74871d19219c7d518d0090283e03c137</td>\n",
       "      <td>4650</td>\n",
       "      <td>SAO PAULO</td>\n",
       "      <td>SP</td>\n",
       "    </tr>\n",
       "    <tr>\n",
       "      <th>3093</th>\n",
       "      <td>e603cf3fec55f8697c9059638d6c8eb5</td>\n",
       "      <td>96080</td>\n",
       "      <td>PELOTAS</td>\n",
       "      <td>RS</td>\n",
       "    </tr>\n",
       "    <tr>\n",
       "      <th>3094</th>\n",
       "      <td>9e25199f6ef7e7c347120ff175652c3b</td>\n",
       "      <td>12051</td>\n",
       "      <td>TAUBATE</td>\n",
       "      <td>SP</td>\n",
       "    </tr>\n",
       "  </tbody>\n",
       "</table>\n",
       "<p>3095 rows × 4 columns</p>\n",
       "</div>"
      ],
      "text/plain": [
       "                             seller_id  seller_zip_code_prefix  \\\n",
       "0     3442f8959a84dea7ee197c632cb2df15                   13023   \n",
       "1     d1b65fc7debc3361ea86b5f14c68d2e2                   13844   \n",
       "2     ce3ad9de960102d0677a81f5d0bb7b2d                   20031   \n",
       "3     c0f3eea2e14555b6faeea3dd58c1b1c3                    4195   \n",
       "4     51a04a8a6bdcb23deccc82b0b80742cf                   12914   \n",
       "...                                ...                     ...   \n",
       "3090  98dddbc4601dd4443ca174359b237166                   87111   \n",
       "3091  f8201cab383e484733266d1906e2fdfa                   88137   \n",
       "3092  74871d19219c7d518d0090283e03c137                    4650   \n",
       "3093  e603cf3fec55f8697c9059638d6c8eb5                   96080   \n",
       "3094  9e25199f6ef7e7c347120ff175652c3b                   12051   \n",
       "\n",
       "            seller_city seller_state  \n",
       "0              CAMPINAS           SP  \n",
       "1            MOGI GUACU           SP  \n",
       "2        RIO DE JANEIRO           RJ  \n",
       "3             SAO PAULO           SP  \n",
       "4     BRAGANCA PAULISTA           SP  \n",
       "...                 ...          ...  \n",
       "3090            SARANDI           PR  \n",
       "3091            PALHOCA           SC  \n",
       "3092          SAO PAULO           SP  \n",
       "3093            PELOTAS           RS  \n",
       "3094            TAUBATE           SP  \n",
       "\n",
       "[3095 rows x 4 columns]"
      ]
     },
     "execution_count": 68,
     "metadata": {},
     "output_type": "execute_result"
    }
   ],
   "source": [
    "sellers # looking at modified columns"
   ]
  },
  {
   "cell_type": "code",
   "execution_count": 69,
   "id": "97164ba6-2544-45dd-84ae-feb2c8e5e827",
   "metadata": {},
   "outputs": [],
   "source": [
    "# Removing underscore from values of columns and replacing them with spaces"
   ]
  },
  {
   "cell_type": "code",
   "execution_count": 70,
   "id": "f5459c8a-2a06-4fd0-b18c-5fbbfeb57eca",
   "metadata": {},
   "outputs": [],
   "source": [
    "product_category[\"product_category_name_english\"] = product_category[\"product_category_name_english\"].str.replace(\"_\", \" \").str.upper().str.strip()"
   ]
  },
  {
   "cell_type": "code",
   "execution_count": 71,
   "id": "b54bb145-10b2-4341-963d-90daf3d43335",
   "metadata": {},
   "outputs": [],
   "source": [
    "product_category[\"product_category_name\"] = product_category[\"product_category_name\"].str.replace(\"_\", \" \").str.upper().str.strip()"
   ]
  },
  {
   "cell_type": "code",
   "execution_count": 72,
   "id": "34b66798-ead3-495c-bc07-85130d9b753e",
   "metadata": {},
   "outputs": [
    {
     "data": {
      "text/html": [
       "<div>\n",
       "<style scoped>\n",
       "    .dataframe tbody tr th:only-of-type {\n",
       "        vertical-align: middle;\n",
       "    }\n",
       "\n",
       "    .dataframe tbody tr th {\n",
       "        vertical-align: top;\n",
       "    }\n",
       "\n",
       "    .dataframe thead th {\n",
       "        text-align: right;\n",
       "    }\n",
       "</style>\n",
       "<table border=\"1\" class=\"dataframe\">\n",
       "  <thead>\n",
       "    <tr style=\"text-align: right;\">\n",
       "      <th></th>\n",
       "      <th>product_category_name</th>\n",
       "      <th>product_category_name_english</th>\n",
       "    </tr>\n",
       "  </thead>\n",
       "  <tbody>\n",
       "    <tr>\n",
       "      <th>0</th>\n",
       "      <td>BELEZA SAUDE</td>\n",
       "      <td>HEALTH BEAUTY</td>\n",
       "    </tr>\n",
       "    <tr>\n",
       "      <th>1</th>\n",
       "      <td>INFORMATICA ACESSORIOS</td>\n",
       "      <td>COMPUTERS ACCESSORIES</td>\n",
       "    </tr>\n",
       "    <tr>\n",
       "      <th>2</th>\n",
       "      <td>AUTOMOTIVO</td>\n",
       "      <td>AUTO</td>\n",
       "    </tr>\n",
       "    <tr>\n",
       "      <th>3</th>\n",
       "      <td>CAMA MESA BANHO</td>\n",
       "      <td>BED BATH TABLE</td>\n",
       "    </tr>\n",
       "    <tr>\n",
       "      <th>4</th>\n",
       "      <td>MOVEIS DECORACAO</td>\n",
       "      <td>FURNITURE DECOR</td>\n",
       "    </tr>\n",
       "    <tr>\n",
       "      <th>...</th>\n",
       "      <td>...</td>\n",
       "      <td>...</td>\n",
       "    </tr>\n",
       "    <tr>\n",
       "      <th>66</th>\n",
       "      <td>FLORES</td>\n",
       "      <td>FLOWERS</td>\n",
       "    </tr>\n",
       "    <tr>\n",
       "      <th>67</th>\n",
       "      <td>ARTES E ARTESANATO</td>\n",
       "      <td>ARTS AND CRAFTMANSHIP</td>\n",
       "    </tr>\n",
       "    <tr>\n",
       "      <th>68</th>\n",
       "      <td>FRALDAS HIGIENE</td>\n",
       "      <td>DIAPERS AND HYGIENE</td>\n",
       "    </tr>\n",
       "    <tr>\n",
       "      <th>69</th>\n",
       "      <td>FASHION ROUPA INFANTO JUVENIL</td>\n",
       "      <td>FASHION CHILDRENS CLOTHES</td>\n",
       "    </tr>\n",
       "    <tr>\n",
       "      <th>70</th>\n",
       "      <td>SEGUROS E SERVICOS</td>\n",
       "      <td>SECURITY AND SERVICES</td>\n",
       "    </tr>\n",
       "  </tbody>\n",
       "</table>\n",
       "<p>71 rows × 2 columns</p>\n",
       "</div>"
      ],
      "text/plain": [
       "            product_category_name product_category_name_english\n",
       "0                    BELEZA SAUDE                 HEALTH BEAUTY\n",
       "1          INFORMATICA ACESSORIOS         COMPUTERS ACCESSORIES\n",
       "2                      AUTOMOTIVO                          AUTO\n",
       "3                 CAMA MESA BANHO                BED BATH TABLE\n",
       "4                MOVEIS DECORACAO               FURNITURE DECOR\n",
       "..                            ...                           ...\n",
       "66                         FLORES                       FLOWERS\n",
       "67             ARTES E ARTESANATO         ARTS AND CRAFTMANSHIP\n",
       "68                FRALDAS HIGIENE           DIAPERS AND HYGIENE\n",
       "69  FASHION ROUPA INFANTO JUVENIL     FASHION CHILDRENS CLOTHES\n",
       "70             SEGUROS E SERVICOS         SECURITY AND SERVICES\n",
       "\n",
       "[71 rows x 2 columns]"
      ]
     },
     "execution_count": 72,
     "metadata": {},
     "output_type": "execute_result"
    }
   ],
   "source": [
    "product_category # modified columns"
   ]
  },
  {
   "cell_type": "code",
   "execution_count": 73,
   "id": "c8947b89-eafe-49ef-a764-bd39b573af1b",
   "metadata": {},
   "outputs": [],
   "source": [
    "products[\"product_category_name\"] = products[\"product_category_name\"].str.replace(\"_\",\" \").str.strip().str.upper()"
   ]
  },
  {
   "cell_type": "code",
   "execution_count": 74,
   "id": "c668b3a5-6f5f-4397-a174-2942555d2af8",
   "metadata": {},
   "outputs": [
    {
     "data": {
      "text/html": [
       "<div>\n",
       "<style scoped>\n",
       "    .dataframe tbody tr th:only-of-type {\n",
       "        vertical-align: middle;\n",
       "    }\n",
       "\n",
       "    .dataframe tbody tr th {\n",
       "        vertical-align: top;\n",
       "    }\n",
       "\n",
       "    .dataframe thead th {\n",
       "        text-align: right;\n",
       "    }\n",
       "</style>\n",
       "<table border=\"1\" class=\"dataframe\">\n",
       "  <thead>\n",
       "    <tr style=\"text-align: right;\">\n",
       "      <th></th>\n",
       "      <th>product_id</th>\n",
       "      <th>product_category_name</th>\n",
       "      <th>product_name_lenght</th>\n",
       "      <th>product_description_lenght</th>\n",
       "      <th>product_photos_qty</th>\n",
       "      <th>product_weight_g</th>\n",
       "      <th>product_length_cm</th>\n",
       "      <th>product_height_cm</th>\n",
       "      <th>product_width_cm</th>\n",
       "    </tr>\n",
       "  </thead>\n",
       "  <tbody>\n",
       "    <tr>\n",
       "      <th>0</th>\n",
       "      <td>1e9e8ef04dbcff4541ed26657ea517e5</td>\n",
       "      <td>PERFUMARIA</td>\n",
       "      <td>40.0</td>\n",
       "      <td>287.0</td>\n",
       "      <td>1.0</td>\n",
       "      <td>225.0</td>\n",
       "      <td>16.0</td>\n",
       "      <td>10.0</td>\n",
       "      <td>14.0</td>\n",
       "    </tr>\n",
       "    <tr>\n",
       "      <th>1</th>\n",
       "      <td>3aa071139cb16b67ca9e5dea641aaa2f</td>\n",
       "      <td>ARTES</td>\n",
       "      <td>44.0</td>\n",
       "      <td>276.0</td>\n",
       "      <td>1.0</td>\n",
       "      <td>1000.0</td>\n",
       "      <td>30.0</td>\n",
       "      <td>18.0</td>\n",
       "      <td>20.0</td>\n",
       "    </tr>\n",
       "    <tr>\n",
       "      <th>2</th>\n",
       "      <td>96bd76ec8810374ed1b65e291975717f</td>\n",
       "      <td>ESPORTE LAZER</td>\n",
       "      <td>46.0</td>\n",
       "      <td>250.0</td>\n",
       "      <td>1.0</td>\n",
       "      <td>154.0</td>\n",
       "      <td>18.0</td>\n",
       "      <td>9.0</td>\n",
       "      <td>15.0</td>\n",
       "    </tr>\n",
       "    <tr>\n",
       "      <th>3</th>\n",
       "      <td>cef67bcfe19066a932b7673e239eb23d</td>\n",
       "      <td>BEBES</td>\n",
       "      <td>27.0</td>\n",
       "      <td>261.0</td>\n",
       "      <td>1.0</td>\n",
       "      <td>371.0</td>\n",
       "      <td>26.0</td>\n",
       "      <td>4.0</td>\n",
       "      <td>26.0</td>\n",
       "    </tr>\n",
       "    <tr>\n",
       "      <th>4</th>\n",
       "      <td>9dc1a7de274444849c219cff195d0b71</td>\n",
       "      <td>UTILIDADES DOMESTICAS</td>\n",
       "      <td>37.0</td>\n",
       "      <td>402.0</td>\n",
       "      <td>4.0</td>\n",
       "      <td>625.0</td>\n",
       "      <td>20.0</td>\n",
       "      <td>17.0</td>\n",
       "      <td>13.0</td>\n",
       "    </tr>\n",
       "    <tr>\n",
       "      <th>...</th>\n",
       "      <td>...</td>\n",
       "      <td>...</td>\n",
       "      <td>...</td>\n",
       "      <td>...</td>\n",
       "      <td>...</td>\n",
       "      <td>...</td>\n",
       "      <td>...</td>\n",
       "      <td>...</td>\n",
       "      <td>...</td>\n",
       "    </tr>\n",
       "    <tr>\n",
       "      <th>32946</th>\n",
       "      <td>a0b7d5a992ccda646f2d34e418fff5a0</td>\n",
       "      <td>MOVEIS DECORACAO</td>\n",
       "      <td>45.0</td>\n",
       "      <td>67.0</td>\n",
       "      <td>2.0</td>\n",
       "      <td>12300.0</td>\n",
       "      <td>40.0</td>\n",
       "      <td>40.0</td>\n",
       "      <td>40.0</td>\n",
       "    </tr>\n",
       "    <tr>\n",
       "      <th>32947</th>\n",
       "      <td>bf4538d88321d0fd4412a93c974510e6</td>\n",
       "      <td>CONSTRUCAO FERRAMENTAS ILUMINACAO</td>\n",
       "      <td>41.0</td>\n",
       "      <td>971.0</td>\n",
       "      <td>1.0</td>\n",
       "      <td>1700.0</td>\n",
       "      <td>16.0</td>\n",
       "      <td>19.0</td>\n",
       "      <td>16.0</td>\n",
       "    </tr>\n",
       "    <tr>\n",
       "      <th>32948</th>\n",
       "      <td>9a7c6041fa9592d9d9ef6cfe62a71f8c</td>\n",
       "      <td>CAMA MESA BANHO</td>\n",
       "      <td>50.0</td>\n",
       "      <td>799.0</td>\n",
       "      <td>1.0</td>\n",
       "      <td>1400.0</td>\n",
       "      <td>27.0</td>\n",
       "      <td>7.0</td>\n",
       "      <td>27.0</td>\n",
       "    </tr>\n",
       "    <tr>\n",
       "      <th>32949</th>\n",
       "      <td>83808703fc0706a22e264b9d75f04a2e</td>\n",
       "      <td>INFORMATICA ACESSORIOS</td>\n",
       "      <td>60.0</td>\n",
       "      <td>156.0</td>\n",
       "      <td>2.0</td>\n",
       "      <td>700.0</td>\n",
       "      <td>31.0</td>\n",
       "      <td>13.0</td>\n",
       "      <td>20.0</td>\n",
       "    </tr>\n",
       "    <tr>\n",
       "      <th>32950</th>\n",
       "      <td>106392145fca363410d287a815be6de4</td>\n",
       "      <td>CAMA MESA BANHO</td>\n",
       "      <td>58.0</td>\n",
       "      <td>309.0</td>\n",
       "      <td>1.0</td>\n",
       "      <td>2083.0</td>\n",
       "      <td>12.0</td>\n",
       "      <td>2.0</td>\n",
       "      <td>7.0</td>\n",
       "    </tr>\n",
       "  </tbody>\n",
       "</table>\n",
       "<p>32340 rows × 9 columns</p>\n",
       "</div>"
      ],
      "text/plain": [
       "                             product_id              product_category_name  \\\n",
       "0      1e9e8ef04dbcff4541ed26657ea517e5                         PERFUMARIA   \n",
       "1      3aa071139cb16b67ca9e5dea641aaa2f                              ARTES   \n",
       "2      96bd76ec8810374ed1b65e291975717f                      ESPORTE LAZER   \n",
       "3      cef67bcfe19066a932b7673e239eb23d                              BEBES   \n",
       "4      9dc1a7de274444849c219cff195d0b71              UTILIDADES DOMESTICAS   \n",
       "...                                 ...                                ...   \n",
       "32946  a0b7d5a992ccda646f2d34e418fff5a0                   MOVEIS DECORACAO   \n",
       "32947  bf4538d88321d0fd4412a93c974510e6  CONSTRUCAO FERRAMENTAS ILUMINACAO   \n",
       "32948  9a7c6041fa9592d9d9ef6cfe62a71f8c                    CAMA MESA BANHO   \n",
       "32949  83808703fc0706a22e264b9d75f04a2e             INFORMATICA ACESSORIOS   \n",
       "32950  106392145fca363410d287a815be6de4                    CAMA MESA BANHO   \n",
       "\n",
       "       product_name_lenght  product_description_lenght  product_photos_qty  \\\n",
       "0                     40.0                       287.0                 1.0   \n",
       "1                     44.0                       276.0                 1.0   \n",
       "2                     46.0                       250.0                 1.0   \n",
       "3                     27.0                       261.0                 1.0   \n",
       "4                     37.0                       402.0                 4.0   \n",
       "...                    ...                         ...                 ...   \n",
       "32946                 45.0                        67.0                 2.0   \n",
       "32947                 41.0                       971.0                 1.0   \n",
       "32948                 50.0                       799.0                 1.0   \n",
       "32949                 60.0                       156.0                 2.0   \n",
       "32950                 58.0                       309.0                 1.0   \n",
       "\n",
       "       product_weight_g  product_length_cm  product_height_cm  \\\n",
       "0                 225.0               16.0               10.0   \n",
       "1                1000.0               30.0               18.0   \n",
       "2                 154.0               18.0                9.0   \n",
       "3                 371.0               26.0                4.0   \n",
       "4                 625.0               20.0               17.0   \n",
       "...                 ...                ...                ...   \n",
       "32946           12300.0               40.0               40.0   \n",
       "32947            1700.0               16.0               19.0   \n",
       "32948            1400.0               27.0                7.0   \n",
       "32949             700.0               31.0               13.0   \n",
       "32950            2083.0               12.0                2.0   \n",
       "\n",
       "       product_width_cm  \n",
       "0                  14.0  \n",
       "1                  20.0  \n",
       "2                  15.0  \n",
       "3                  26.0  \n",
       "4                  13.0  \n",
       "...                 ...  \n",
       "32946              40.0  \n",
       "32947              16.0  \n",
       "32948              27.0  \n",
       "32949              20.0  \n",
       "32950               7.0  \n",
       "\n",
       "[32340 rows x 9 columns]"
      ]
     },
     "execution_count": 74,
     "metadata": {},
     "output_type": "execute_result"
    }
   ],
   "source": [
    "products # modified column"
   ]
  },
  {
   "cell_type": "code",
   "execution_count": 75,
   "id": "b99f0a23-630d-4fc1-9e98-6226674dd860",
   "metadata": {},
   "outputs": [],
   "source": [
    "order_payments[\"payment_type\"] = order_payments[\"payment_type\"].str.replace(\"_\",\" \").str.upper().str.strip()"
   ]
  },
  {
   "cell_type": "code",
   "execution_count": 76,
   "id": "b354703b-0d0c-4631-a7db-8ec6c6d059e1",
   "metadata": {
    "scrolled": true
   },
   "outputs": [
    {
     "data": {
      "text/html": [
       "<div>\n",
       "<style scoped>\n",
       "    .dataframe tbody tr th:only-of-type {\n",
       "        vertical-align: middle;\n",
       "    }\n",
       "\n",
       "    .dataframe tbody tr th {\n",
       "        vertical-align: top;\n",
       "    }\n",
       "\n",
       "    .dataframe thead th {\n",
       "        text-align: right;\n",
       "    }\n",
       "</style>\n",
       "<table border=\"1\" class=\"dataframe\">\n",
       "  <thead>\n",
       "    <tr style=\"text-align: right;\">\n",
       "      <th></th>\n",
       "      <th>order_id</th>\n",
       "      <th>payment_sequential</th>\n",
       "      <th>payment_type</th>\n",
       "      <th>payment_installments</th>\n",
       "      <th>payment_value</th>\n",
       "    </tr>\n",
       "  </thead>\n",
       "  <tbody>\n",
       "    <tr>\n",
       "      <th>0</th>\n",
       "      <td>b81ef226f3fe1789b1e8b2acac839d17</td>\n",
       "      <td>1</td>\n",
       "      <td>CREDIT CARD</td>\n",
       "      <td>8</td>\n",
       "      <td>99.33</td>\n",
       "    </tr>\n",
       "    <tr>\n",
       "      <th>1</th>\n",
       "      <td>a9810da82917af2d9aefd1278f1dcfa0</td>\n",
       "      <td>1</td>\n",
       "      <td>CREDIT CARD</td>\n",
       "      <td>1</td>\n",
       "      <td>24.39</td>\n",
       "    </tr>\n",
       "    <tr>\n",
       "      <th>2</th>\n",
       "      <td>25e8ea4e93396b6fa0d3dd708e76c1bd</td>\n",
       "      <td>1</td>\n",
       "      <td>CREDIT CARD</td>\n",
       "      <td>1</td>\n",
       "      <td>65.71</td>\n",
       "    </tr>\n",
       "    <tr>\n",
       "      <th>3</th>\n",
       "      <td>ba78997921bbcdc1373bb41e913ab953</td>\n",
       "      <td>1</td>\n",
       "      <td>CREDIT CARD</td>\n",
       "      <td>8</td>\n",
       "      <td>107.78</td>\n",
       "    </tr>\n",
       "    <tr>\n",
       "      <th>4</th>\n",
       "      <td>42fdf880ba16b47b59251dd489d4441a</td>\n",
       "      <td>1</td>\n",
       "      <td>CREDIT CARD</td>\n",
       "      <td>2</td>\n",
       "      <td>128.45</td>\n",
       "    </tr>\n",
       "    <tr>\n",
       "      <th>...</th>\n",
       "      <td>...</td>\n",
       "      <td>...</td>\n",
       "      <td>...</td>\n",
       "      <td>...</td>\n",
       "      <td>...</td>\n",
       "    </tr>\n",
       "    <tr>\n",
       "      <th>103881</th>\n",
       "      <td>0406037ad97740d563a178ecc7a2075c</td>\n",
       "      <td>1</td>\n",
       "      <td>BOLETO</td>\n",
       "      <td>1</td>\n",
       "      <td>363.31</td>\n",
       "    </tr>\n",
       "    <tr>\n",
       "      <th>103882</th>\n",
       "      <td>7b905861d7c825891d6347454ea7863f</td>\n",
       "      <td>1</td>\n",
       "      <td>CREDIT CARD</td>\n",
       "      <td>2</td>\n",
       "      <td>96.80</td>\n",
       "    </tr>\n",
       "    <tr>\n",
       "      <th>103883</th>\n",
       "      <td>32609bbb3dd69b3c066a6860554a77bf</td>\n",
       "      <td>1</td>\n",
       "      <td>CREDIT CARD</td>\n",
       "      <td>1</td>\n",
       "      <td>47.77</td>\n",
       "    </tr>\n",
       "    <tr>\n",
       "      <th>103884</th>\n",
       "      <td>b8b61059626efa996a60be9bb9320e10</td>\n",
       "      <td>1</td>\n",
       "      <td>CREDIT CARD</td>\n",
       "      <td>5</td>\n",
       "      <td>369.54</td>\n",
       "    </tr>\n",
       "    <tr>\n",
       "      <th>103885</th>\n",
       "      <td>28bbae6599b09d39ca406b747b6632b1</td>\n",
       "      <td>1</td>\n",
       "      <td>BOLETO</td>\n",
       "      <td>1</td>\n",
       "      <td>191.58</td>\n",
       "    </tr>\n",
       "  </tbody>\n",
       "</table>\n",
       "<p>103886 rows × 5 columns</p>\n",
       "</div>"
      ],
      "text/plain": [
       "                                order_id  payment_sequential payment_type  \\\n",
       "0       b81ef226f3fe1789b1e8b2acac839d17                   1  CREDIT CARD   \n",
       "1       a9810da82917af2d9aefd1278f1dcfa0                   1  CREDIT CARD   \n",
       "2       25e8ea4e93396b6fa0d3dd708e76c1bd                   1  CREDIT CARD   \n",
       "3       ba78997921bbcdc1373bb41e913ab953                   1  CREDIT CARD   \n",
       "4       42fdf880ba16b47b59251dd489d4441a                   1  CREDIT CARD   \n",
       "...                                  ...                 ...          ...   \n",
       "103881  0406037ad97740d563a178ecc7a2075c                   1       BOLETO   \n",
       "103882  7b905861d7c825891d6347454ea7863f                   1  CREDIT CARD   \n",
       "103883  32609bbb3dd69b3c066a6860554a77bf                   1  CREDIT CARD   \n",
       "103884  b8b61059626efa996a60be9bb9320e10                   1  CREDIT CARD   \n",
       "103885  28bbae6599b09d39ca406b747b6632b1                   1       BOLETO   \n",
       "\n",
       "        payment_installments  payment_value  \n",
       "0                          8          99.33  \n",
       "1                          1          24.39  \n",
       "2                          1          65.71  \n",
       "3                          8         107.78  \n",
       "4                          2         128.45  \n",
       "...                      ...            ...  \n",
       "103881                     1         363.31  \n",
       "103882                     2          96.80  \n",
       "103883                     1          47.77  \n",
       "103884                     5         369.54  \n",
       "103885                     1         191.58  \n",
       "\n",
       "[103886 rows x 5 columns]"
      ]
     },
     "execution_count": 76,
     "metadata": {},
     "output_type": "execute_result"
    }
   ],
   "source": [
    "order_payments # looking at modified column"
   ]
  },
  {
   "cell_type": "code",
   "execution_count": null,
   "id": "cebb7451-5f8d-46c7-acd4-3198da5c6480",
   "metadata": {},
   "outputs": [],
   "source": []
  },
  {
   "cell_type": "code",
   "execution_count": 77,
   "id": "3b8f6f08-b3d2-441f-b543-38fba7ebe94a",
   "metadata": {},
   "outputs": [],
   "source": [
    "# listing the datasets for reference\n",
    "\n",
    "#customers\n",
    "#geolocation\n",
    "#order_items\n",
    "#order_payments\n",
    "#order_reviews\n",
    "#orders\n",
    "#products\n",
    "#sellers\n",
    "#product_category"
   ]
  },
  {
   "cell_type": "markdown",
   "id": "2cb98117-250a-49c2-b4c6-84eb274138e0",
   "metadata": {},
   "source": [
    "##### Before I proceed, I think I need to drop irrelavant columns and translate values of columns from Portuguese to English"
   ]
  },
  {
   "cell_type": "code",
   "execution_count": 78,
   "id": "bacbc8fc-f22b-4738-8b64-b95fcd497fe7",
   "metadata": {},
   "outputs": [
    {
     "data": {
      "text/plain": [
       "Index(['customer_id', 'customer_unique_id', 'customer_zip_code_prefix',\n",
       "       'customer_city', 'customer_state'],\n",
       "      dtype='object')"
      ]
     },
     "execution_count": 78,
     "metadata": {},
     "output_type": "execute_result"
    }
   ],
   "source": [
    "customers.columns # looking at the columns of the dataset"
   ]
  },
  {
   "cell_type": "code",
   "execution_count": 79,
   "id": "47cf21b5-3667-426d-8d07-6c49631c5400",
   "metadata": {},
   "outputs": [],
   "source": [
    "# I thought of combining some datasets before dropping some columns (Merging Dataframes)"
   ]
  },
  {
   "cell_type": "code",
   "execution_count": 80,
   "id": "804f8c01-135d-4074-a975-1f50faf45798",
   "metadata": {},
   "outputs": [],
   "source": [
    "# Combining the datasets products and product_category"
   ]
  },
  {
   "cell_type": "code",
   "execution_count": 81,
   "id": "318f09cf-9e9f-45c5-a9b1-c207be7e0766",
   "metadata": {},
   "outputs": [],
   "source": [
    "merge1 = pd.merge(products, product_category, on=\"product_category_name\", how=\"left\") # doing a left join"
   ]
  },
  {
   "cell_type": "code",
   "execution_count": 82,
   "id": "a8d27c59-fc83-460d-a4a9-b848305df88a",
   "metadata": {},
   "outputs": [
    {
     "data": {
      "text/plain": [
       "Index(['order_id', 'customer_id', 'order_status', 'order_purchase_timestamp',\n",
       "       'order_delivered_carrier_date', 'order_delivered_customer_date',\n",
       "       'order_estimated_delivery_date'],\n",
       "      dtype='object')"
      ]
     },
     "execution_count": 82,
     "metadata": {},
     "output_type": "execute_result"
    }
   ],
   "source": [
    "orders.columns # looking at columns"
   ]
  },
  {
   "cell_type": "code",
   "execution_count": 83,
   "id": "8926da08-e307-4293-b854-8377a22f198c",
   "metadata": {},
   "outputs": [
    {
     "data": {
      "text/plain": [
       "Index(['order_id', 'order_item_id', 'product_id', 'seller_id',\n",
       "       'shipping_limit_date', 'price', 'freight_value'],\n",
       "      dtype='object')"
      ]
     },
     "execution_count": 83,
     "metadata": {},
     "output_type": "execute_result"
    }
   ],
   "source": [
    "order_items.columns  # looking at columns"
   ]
  },
  {
   "cell_type": "code",
   "execution_count": 84,
   "id": "dfa1c209-b3e2-4969-9978-283c34851ce5",
   "metadata": {},
   "outputs": [],
   "source": [
    "# merging orders and order_items datasets\n",
    "merge2 = pd.merge(orders, order_items, on = \"order_id\", how=\"left\")"
   ]
  },
  {
   "cell_type": "code",
   "execution_count": 85,
   "id": "e25e16fa-a708-4732-82e8-867718655544",
   "metadata": {},
   "outputs": [
    {
     "data": {
      "text/plain": [
       "Index(['order_id', 'customer_id', 'order_status', 'order_purchase_timestamp',\n",
       "       'order_delivered_carrier_date', 'order_delivered_customer_date',\n",
       "       'order_estimated_delivery_date', 'order_item_id', 'product_id',\n",
       "       'seller_id', 'shipping_limit_date', 'price', 'freight_value'],\n",
       "      dtype='object')"
      ]
     },
     "execution_count": 85,
     "metadata": {},
     "output_type": "execute_result"
    }
   ],
   "source": [
    "merge2.columns # looking at columns"
   ]
  },
  {
   "cell_type": "code",
   "execution_count": 86,
   "id": "63a35461-de49-42d5-8c0c-8ae6952d2085",
   "metadata": {},
   "outputs": [
    {
     "data": {
      "text/plain": [
       "Index(['order_id', 'payment_sequential', 'payment_type',\n",
       "       'payment_installments', 'payment_value'],\n",
       "      dtype='object')"
      ]
     },
     "execution_count": 86,
     "metadata": {},
     "output_type": "execute_result"
    }
   ],
   "source": [
    "order_payments.columns # looking at columns"
   ]
  },
  {
   "cell_type": "code",
   "execution_count": 87,
   "id": "6ff32f70-9852-402b-8e44-44cb0b8a5946",
   "metadata": {},
   "outputs": [],
   "source": [
    "merge3 = pd.merge(merge2, order_payments, on=\"order_id\", how=\"left\") # combining merged and dataset that is not merged"
   ]
  },
  {
   "cell_type": "code",
   "execution_count": 88,
   "id": "38930862-f851-46cf-8529-3522a18c4189",
   "metadata": {},
   "outputs": [
    {
     "data": {
      "text/plain": [
       "Index(['order_id', 'customer_id', 'order_status', 'order_purchase_timestamp',\n",
       "       'order_delivered_carrier_date', 'order_delivered_customer_date',\n",
       "       'order_estimated_delivery_date', 'order_item_id', 'product_id',\n",
       "       'seller_id', 'shipping_limit_date', 'price', 'freight_value',\n",
       "       'payment_sequential', 'payment_type', 'payment_installments',\n",
       "       'payment_value'],\n",
       "      dtype='object')"
      ]
     },
     "execution_count": 88,
     "metadata": {},
     "output_type": "execute_result"
    }
   ],
   "source": [
    "merge3.columns # looking at columns"
   ]
  },
  {
   "cell_type": "code",
   "execution_count": 89,
   "id": "4b350896-34e8-4006-a215-9f75a7a51e28",
   "metadata": {},
   "outputs": [
    {
     "data": {
      "text/plain": [
       "Index(['review_id', 'order_id', 'review_score', 'review_comment_title',\n",
       "       'review_comment_message', 'review_creation_date',\n",
       "       'review_answer_timestamp'],\n",
       "      dtype='object')"
      ]
     },
     "execution_count": 89,
     "metadata": {},
     "output_type": "execute_result"
    }
   ],
   "source": [
    "order_reviews.columns"
   ]
  },
  {
   "cell_type": "code",
   "execution_count": 90,
   "id": "617a1405-a5f4-49ea-a8a1-cdaea14dd002",
   "metadata": {},
   "outputs": [],
   "source": [
    "# combining merge3 and order_reviews dataset\n",
    "merge4 = pd.merge(merge3, order_reviews, on = \"order_id\", how=\"left\")"
   ]
  },
  {
   "cell_type": "code",
   "execution_count": 91,
   "id": "4fdd83f9-3702-4c5e-8da0-0bed34edbffd",
   "metadata": {},
   "outputs": [
    {
     "data": {
      "text/plain": [
       "Index(['order_id', 'customer_id', 'order_status', 'order_purchase_timestamp',\n",
       "       'order_delivered_carrier_date', 'order_delivered_customer_date',\n",
       "       'order_estimated_delivery_date', 'order_item_id', 'product_id',\n",
       "       'seller_id', 'shipping_limit_date', 'price', 'freight_value',\n",
       "       'payment_sequential', 'payment_type', 'payment_installments',\n",
       "       'payment_value', 'review_id', 'review_score', 'review_comment_title',\n",
       "       'review_comment_message', 'review_creation_date',\n",
       "       'review_answer_timestamp'],\n",
       "      dtype='object')"
      ]
     },
     "execution_count": 91,
     "metadata": {},
     "output_type": "execute_result"
    }
   ],
   "source": [
    "# looking at the columns of the merged dataset merge 4\n",
    "merge4.columns"
   ]
  },
  {
   "cell_type": "code",
   "execution_count": 92,
   "id": "3ffe139d-ce86-43c9-ad46-b012959755a5",
   "metadata": {},
   "outputs": [
    {
     "data": {
      "text/plain": [
       "Index(['customer_id', 'customer_unique_id', 'customer_zip_code_prefix',\n",
       "       'customer_city', 'customer_state'],\n",
       "      dtype='object')"
      ]
     },
     "execution_count": 92,
     "metadata": {},
     "output_type": "execute_result"
    }
   ],
   "source": [
    "customers.columns"
   ]
  },
  {
   "cell_type": "code",
   "execution_count": 93,
   "id": "6c042e0e-e3af-4bb4-b62b-3c08742e61c2",
   "metadata": {},
   "outputs": [],
   "source": [
    "# creating a new merged dataset by combining customers and merge4 dataset\n",
    "merge5 = pd.merge(merge4, customers, on=\"customer_id\", how=\"left\")"
   ]
  },
  {
   "cell_type": "code",
   "execution_count": 94,
   "id": "4a0bff6f-9453-4131-bac0-efe7fb3ec856",
   "metadata": {},
   "outputs": [
    {
     "data": {
      "text/plain": [
       "Index(['order_id', 'customer_id', 'order_status', 'order_purchase_timestamp',\n",
       "       'order_delivered_carrier_date', 'order_delivered_customer_date',\n",
       "       'order_estimated_delivery_date', 'order_item_id', 'product_id',\n",
       "       'seller_id', 'shipping_limit_date', 'price', 'freight_value',\n",
       "       'payment_sequential', 'payment_type', 'payment_installments',\n",
       "       'payment_value', 'review_id', 'review_score', 'review_comment_title',\n",
       "       'review_comment_message', 'review_creation_date',\n",
       "       'review_answer_timestamp', 'customer_unique_id',\n",
       "       'customer_zip_code_prefix', 'customer_city', 'customer_state'],\n",
       "      dtype='object')"
      ]
     },
     "execution_count": 94,
     "metadata": {},
     "output_type": "execute_result"
    }
   ],
   "source": [
    "# looking at the columns of the merged merge5 dataset\n",
    "merge5.columns"
   ]
  },
  {
   "cell_type": "code",
   "execution_count": 95,
   "id": "0743add0-e564-49e1-bcb8-f4cb78f2bc77",
   "metadata": {},
   "outputs": [
    {
     "data": {
      "text/plain": [
       "Index(['product_id', 'product_category_name', 'product_name_lenght',\n",
       "       'product_description_lenght', 'product_photos_qty', 'product_weight_g',\n",
       "       'product_length_cm', 'product_height_cm', 'product_width_cm',\n",
       "       'product_category_name_english'],\n",
       "      dtype='object')"
      ]
     },
     "execution_count": 95,
     "metadata": {},
     "output_type": "execute_result"
    }
   ],
   "source": [
    "merge1.columns"
   ]
  },
  {
   "cell_type": "code",
   "execution_count": 96,
   "id": "34316df7-b578-4f28-9df5-c83eee271c31",
   "metadata": {},
   "outputs": [],
   "source": [
    "# merging merge5 and merge1 datasets\n",
    "merge6 = pd.merge(merge5, merge1, on = \"product_id\", how=\"left\")"
   ]
  },
  {
   "cell_type": "code",
   "execution_count": 97,
   "id": "5731cccf-dd36-44a1-bd8b-0b7630719e84",
   "metadata": {},
   "outputs": [
    {
     "data": {
      "text/plain": [
       "Index(['order_id', 'customer_id', 'order_status', 'order_purchase_timestamp',\n",
       "       'order_delivered_carrier_date', 'order_delivered_customer_date',\n",
       "       'order_estimated_delivery_date', 'order_item_id', 'product_id',\n",
       "       'seller_id', 'shipping_limit_date', 'price', 'freight_value',\n",
       "       'payment_sequential', 'payment_type', 'payment_installments',\n",
       "       'payment_value', 'review_id', 'review_score', 'review_comment_title',\n",
       "       'review_comment_message', 'review_creation_date',\n",
       "       'review_answer_timestamp', 'customer_unique_id',\n",
       "       'customer_zip_code_prefix', 'customer_city', 'customer_state',\n",
       "       'product_category_name', 'product_name_lenght',\n",
       "       'product_description_lenght', 'product_photos_qty', 'product_weight_g',\n",
       "       'product_length_cm', 'product_height_cm', 'product_width_cm',\n",
       "       'product_category_name_english'],\n",
       "      dtype='object')"
      ]
     },
     "execution_count": 97,
     "metadata": {},
     "output_type": "execute_result"
    }
   ],
   "source": [
    "merge6.columns # looking at the merged columns"
   ]
  },
  {
   "cell_type": "code",
   "execution_count": 98,
   "id": "b58c70e4-efd8-4b32-917b-312aa0aed4a6",
   "metadata": {},
   "outputs": [
    {
     "data": {
      "text/plain": [
       "Index(['seller_id', 'seller_zip_code_prefix', 'seller_city', 'seller_state'], dtype='object')"
      ]
     },
     "execution_count": 98,
     "metadata": {},
     "output_type": "execute_result"
    }
   ],
   "source": [
    "sellers.columns # looking at the columns"
   ]
  },
  {
   "cell_type": "code",
   "execution_count": 99,
   "id": "7adf4b0e-f06a-4490-9b23-9989b6b34ea2",
   "metadata": {},
   "outputs": [],
   "source": [
    "# finally merging the merge6 and sellers datasets\n",
    "final_df = pd.merge(merge6, sellers, on=\"seller_id\", how=\"left\")"
   ]
  },
  {
   "cell_type": "code",
   "execution_count": 100,
   "id": "12bf1f9d-d994-452a-ad45-07454be53667",
   "metadata": {
    "scrolled": true
   },
   "outputs": [
    {
     "data": {
      "text/plain": [
       "Index(['order_id', 'customer_id', 'order_status', 'order_purchase_timestamp',\n",
       "       'order_delivered_carrier_date', 'order_delivered_customer_date',\n",
       "       'order_estimated_delivery_date', 'order_item_id', 'product_id',\n",
       "       'seller_id', 'shipping_limit_date', 'price', 'freight_value',\n",
       "       'payment_sequential', 'payment_type', 'payment_installments',\n",
       "       'payment_value', 'review_id', 'review_score', 'review_comment_title',\n",
       "       'review_comment_message', 'review_creation_date',\n",
       "       'review_answer_timestamp', 'customer_unique_id',\n",
       "       'customer_zip_code_prefix', 'customer_city', 'customer_state',\n",
       "       'product_category_name', 'product_name_lenght',\n",
       "       'product_description_lenght', 'product_photos_qty', 'product_weight_g',\n",
       "       'product_length_cm', 'product_height_cm', 'product_width_cm',\n",
       "       'product_category_name_english', 'seller_zip_code_prefix',\n",
       "       'seller_city', 'seller_state'],\n",
       "      dtype='object')"
      ]
     },
     "execution_count": 100,
     "metadata": {},
     "output_type": "execute_result"
    }
   ],
   "source": [
    "# Looking at the columns of the final combined dataset/dataframe\n",
    "final_df.columns"
   ]
  },
  {
   "cell_type": "code",
   "execution_count": 103,
   "id": "1c4485fd-8fc8-4d34-81e2-676cd704e3d2",
   "metadata": {},
   "outputs": [],
   "source": [
    "# Finally converting the final merged dataset into csv file\n",
    "final_df.to_csv(\"Final_Data.csv\", index=False) \n",
    "# index=False in order to prevent pandas from writing the Dataframe index as a column in the csv"
   ]
  },
  {
   "cell_type": "code",
   "execution_count": null,
   "id": "5d9033e2-5497-49e9-817c-8edf9d82ede2",
   "metadata": {},
   "outputs": [],
   "source": []
  }
 ],
 "metadata": {
  "kernelspec": {
   "display_name": "Python 3 (ipykernel)",
   "language": "python",
   "name": "python3"
  },
  "language_info": {
   "codemirror_mode": {
    "name": "ipython",
    "version": 3
   },
   "file_extension": ".py",
   "mimetype": "text/x-python",
   "name": "python",
   "nbconvert_exporter": "python",
   "pygments_lexer": "ipython3",
   "version": "3.13.5"
  }
 },
 "nbformat": 4,
 "nbformat_minor": 5
}
